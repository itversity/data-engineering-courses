{
 "cells": [
  {
   "cell_type": "markdown",
   "metadata": {},
   "source": [
    "# Project 1 - File Format Converter using Python\n",
    "\n",
    "* Overview of Environment Variables\n",
    "* Setting Environment Variables on Windows or Mac or Linux\n",
    "* Use Environment Variables in Python Applications\n",
    "* Use Environment Variables in File Format Converter\n",
    "* Pass JSON Array as argument to Python Applications\n",
    "* Pass Data Sets as Run Time Arguments to File Format Converter\n",
    "* Exception Handling in Python Applications\n",
    "* Raising Exceptions in Python Applications\n",
    "* Exception Handling in File Format Converter Application"
   ]
  },
  {
   "cell_type": "markdown",
   "metadata": {},
   "source": [
    "* Overview of Environment Variables"
   ]
  },
  {
   "cell_type": "markdown",
   "metadata": {},
   "source": [
    "* Setting Environment Variables on Windows or Mac or Linux"
   ]
  },
  {
   "cell_type": "markdown",
   "metadata": {},
   "source": [
    "* Use Environment Variables in Python Applications"
   ]
  },
  {
   "cell_type": "markdown",
   "metadata": {},
   "source": [
    "* Use Environment Variables in File Format Converter"
   ]
  },
  {
   "cell_type": "markdown",
   "metadata": {},
   "source": [
    "* Pass JSON Array as argument to Python Applications"
   ]
  },
  {
   "cell_type": "markdown",
   "metadata": {},
   "source": [
    "* Pass Data Sets as Run Time Arguments to File Format Converter"
   ]
  },
  {
   "cell_type": "markdown",
   "metadata": {},
   "source": [
    "* Exception Handling in Python Applications"
   ]
  },
  {
   "cell_type": "markdown",
   "metadata": {},
   "source": [
    "* Raising Exceptions in Python Applications"
   ]
  },
  {
   "cell_type": "markdown",
   "metadata": {},
   "source": [
    "* Exception Handling in File Format Converter Application"
   ]
  }
 ],
 "metadata": {
  "language_info": {
   "name": "python"
  },
  "orig_nbformat": 4
 },
 "nbformat": 4,
 "nbformat_minor": 2
}
