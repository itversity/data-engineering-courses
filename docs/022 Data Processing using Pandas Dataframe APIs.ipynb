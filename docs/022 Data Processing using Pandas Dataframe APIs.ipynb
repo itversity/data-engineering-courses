{
 "cells": [
  {
   "cell_type": "markdown",
   "metadata": {},
   "source": [
    "# Data Processing using Pandas Dataframe APIs\n",
    "\n",
    "* Overview of Pandas for Data Processing\n",
    "* Overview of Reading CSV Data using Pandas\n",
    "* Read Data from CSV Files to Pandas Dataframes\n",
    "* Filter Data in Pandas Dataframe using query\n",
    "* Get Count by Status using Pandas Dataframe APIs\n",
    "* Get count by Month and Status using Pandas Dataframe APIs"
   ]
  },
  {
   "cell_type": "markdown",
   "metadata": {},
   "source": [
    "* Overview of Pandas for Data Processing\n",
    "\n",
    "Let us get an overview of Python Pandas Library.\n",
    "* Pandas is one of the most popular libraries of Python.\n",
    "* Usage: Data Processing, Data Analysis (including Visualization)\n",
    "* Robust APIs to read data from different sources, process data and write data to different targets.\n",
    "* Integrated with File Formats, Databases, REST APIs, etc\n",
    "* Easy to integrate with additional File Systems or Databases (install additional libraries)"
   ]
  },
  {
   "cell_type": "code",
   "execution_count": null,
   "metadata": {},
   "outputs": [],
   "source": [
    "!pip install pandas"
   ]
  },
  {
   "cell_type": "code",
   "execution_count": null,
   "metadata": {},
   "outputs": [],
   "source": [
    "import pandas as pd"
   ]
  },
  {
   "cell_type": "markdown",
   "metadata": {},
   "source": [
    "* Overview of Reading CSV Data using Pandas"
   ]
  },
  {
   "cell_type": "code",
   "execution_count": null,
   "metadata": {},
   "outputs": [],
   "source": [
    "help(pd.read_csv)"
   ]
  },
  {
   "cell_type": "markdown",
   "metadata": {},
   "source": [
    "* Read Data from CSV Files to Pandas Dataframes"
   ]
  },
  {
   "cell_type": "code",
   "execution_count": null,
   "metadata": {},
   "outputs": [],
   "source": [
    "orders_columns = [\n",
    "    'order_id', 'order_date',\n",
    "    'order_customer_id', 'order_status'\n",
    "]"
   ]
  },
  {
   "cell_type": "code",
   "execution_count": null,
   "metadata": {},
   "outputs": [],
   "source": [
    "pd.read_csv(\n",
    "    'data/retail_db/orders/part-00000', \n",
    "    names=orders_columns\n",
    ")"
   ]
  },
  {
   "cell_type": "markdown",
   "metadata": {},
   "source": [
    "* Filter Data in Pandas Dataframe using query"
   ]
  },
  {
   "cell_type": "code",
   "execution_count": null,
   "metadata": {},
   "outputs": [],
   "source": [
    "orders = pd.read_csv(\n",
    "    'data/retail_db/orders/part-00000', \n",
    "    names=orders_columns\n",
    ")"
   ]
  },
  {
   "cell_type": "code",
   "execution_count": null,
   "metadata": {},
   "outputs": [],
   "source": [
    "orders"
   ]
  },
  {
   "cell_type": "code",
   "execution_count": null,
   "metadata": {},
   "outputs": [],
   "source": [
    "orders.columns"
   ]
  },
  {
   "cell_type": "code",
   "execution_count": null,
   "metadata": {},
   "outputs": [],
   "source": [
    "orders.query?"
   ]
  },
  {
   "cell_type": "code",
   "execution_count": null,
   "metadata": {},
   "outputs": [],
   "source": [
    "orders['order_status'].unique()"
   ]
  },
  {
   "cell_type": "code",
   "execution_count": null,
   "metadata": {},
   "outputs": [],
   "source": [
    "orders.query('order_status == \"COMPLETE\"')"
   ]
  },
  {
   "cell_type": "code",
   "execution_count": null,
   "metadata": {},
   "outputs": [],
   "source": [
    "orders.query('order_status == \"COMPLETE\" and order_date == \"2014-01-01 00:00:00.0\"')"
   ]
  },
  {
   "cell_type": "code",
   "execution_count": null,
   "metadata": {},
   "outputs": [],
   "source": [
    "orders.query('order_status == \"COMPLETE\" or order_status == \"CLOSED\"')"
   ]
  },
  {
   "cell_type": "code",
   "execution_count": null,
   "metadata": {},
   "outputs": [],
   "source": [
    "orders.query('order_status == (\"COMPLETE\", \"CLOSED\")')"
   ]
  },
  {
   "cell_type": "markdown",
   "metadata": {},
   "source": [
    "* Get Count by Status using Pandas Dataframe APIs"
   ]
  },
  {
   "cell_type": "markdown",
   "metadata": {},
   "source": [
    "Here are the tasks related to aggregations.\n",
    "* Get count by order status.\n",
    "* Get count by order month and then by order status. We need to generate order month using order date using apply on dataframe.\n",
    "\n",
    "```python\n",
    "orders.apply(lambda order: order.order_date[:7], axis=1)\n",
    "```"
   ]
  },
  {
   "cell_type": "code",
   "execution_count": null,
   "metadata": {},
   "outputs": [],
   "source": [
    "orders.columns"
   ]
  },
  {
   "cell_type": "code",
   "execution_count": null,
   "metadata": {},
   "outputs": [],
   "source": [
    "help(orders.groupby)"
   ]
  },
  {
   "cell_type": "code",
   "execution_count": null,
   "metadata": {},
   "outputs": [],
   "source": [
    "orders. \\\n",
    "    groupby('order_status')['order_id']. \\\n",
    "    agg(order_count='count')"
   ]
  },
  {
   "cell_type": "code",
   "execution_count": null,
   "metadata": {},
   "outputs": [],
   "source": [
    "orders"
   ]
  },
  {
   "cell_type": "markdown",
   "metadata": {},
   "source": [
    "* Get count by Month and Status using Pandas Dataframe APIs"
   ]
  },
  {
   "cell_type": "code",
   "execution_count": null,
   "metadata": {},
   "outputs": [],
   "source": [
    "orders['order_month'] = orders.apply(lambda order: order.order_date[:7], axis=1)"
   ]
  },
  {
   "cell_type": "code",
   "execution_count": null,
   "metadata": {},
   "outputs": [],
   "source": [
    "orders"
   ]
  },
  {
   "cell_type": "code",
   "execution_count": null,
   "metadata": {},
   "outputs": [],
   "source": [
    "orders. \\\n",
    "    groupby(['order_month', 'order_status'])['order_id']. \\\n",
    "    agg(order_count='count')"
   ]
  },
  {
   "cell_type": "code",
   "execution_count": null,
   "metadata": {},
   "outputs": [],
   "source": [
    "orders. \\\n",
    "    groupby(['order_month', 'order_status'])['order_id']. \\\n",
    "    agg(order_count='count'). \\\n",
    "    reset_index()"
   ]
  }
 ],
 "metadata": {
  "language_info": {
   "name": "python"
  },
  "orig_nbformat": 4
 },
 "nbformat": 4,
 "nbformat_minor": 2
}
