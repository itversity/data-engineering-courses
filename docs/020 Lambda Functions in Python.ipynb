{
 "cells": [
  {
   "cell_type": "markdown",
   "metadata": {},
   "source": [
    "# Lambda Functions in Python\n",
    "\n",
    "* Overview of Lambda Functions in Python\n",
    "* Usage of Lambda Functions\n",
    "* Filter Data in Python Lists using filter and lambda\n",
    "* Get unique values from list using map and set\n",
    "* Sort Python lists using key"
   ]
  }
 ],
 "metadata": {
  "language_info": {
   "name": "python"
  },
  "orig_nbformat": 4
 },
 "nbformat": 4,
 "nbformat_minor": 2
}
