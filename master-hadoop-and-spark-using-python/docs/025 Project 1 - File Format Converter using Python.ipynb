{
 "cells": [
  {
   "cell_type": "markdown",
   "metadata": {},
   "source": [
    "# Project 1 - File Format Converter using Python\n",
    "\n",
    "* Write Pandas Dataframe to JSON Files\n",
    "* Modularize File Format Converter for Dataset\n",
    "* Wrapper to Process all Data Sets\n",
    "* Setup Project for File Format Converter using Python\n",
    "* Install Dependencies for the Python Project using pip\n",
    "* Add Core Logic to Python Application\n",
    "* Overview of Run-time Arguments and Environment Variables\n",
    "* Using Run Time Arguments in Python Applications"
   ]
  },
  {
   "cell_type": "markdown",
   "metadata": {},
   "source": [
    "* Write Pandas Dataframe to JSON Files"
   ]
  },
  {
   "cell_type": "markdown",
   "metadata": {},
   "source": [
    "* Modularize File Format Converter for Dataset"
   ]
  },
  {
   "cell_type": "markdown",
   "metadata": {},
   "source": [
    "* Wrapper to Process all Data Sets"
   ]
  },
  {
   "cell_type": "markdown",
   "metadata": {},
   "source": [
    "* Setup Project for File Format Converter using Python"
   ]
  },
  {
   "cell_type": "markdown",
   "metadata": {},
   "source": [
    "* Install Dependencies for the Python Project using pip"
   ]
  },
  {
   "cell_type": "markdown",
   "metadata": {},
   "source": [
    "* Add Core Logic to Python Application"
   ]
  },
  {
   "cell_type": "markdown",
   "metadata": {},
   "source": [
    "* Overview of Run-time Arguments and Environment Variables"
   ]
  },
  {
   "cell_type": "markdown",
   "metadata": {},
   "source": [
    "* Using Run Time Arguments in Python Applications"
   ]
  }
 ],
 "metadata": {
  "language_info": {
   "name": "python"
  },
  "orig_nbformat": 4
 },
 "nbformat": 4,
 "nbformat_minor": 2
}
