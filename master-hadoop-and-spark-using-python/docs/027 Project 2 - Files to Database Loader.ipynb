{
 "cells": [
  {
   "cell_type": "markdown",
   "metadata": {},
   "source": [
    "# Project 2 - Files to Database Loader\n",
    "\n",
    "* Install Python Dependencies for Pandas and Database Integration\n",
    "* Run Queries from Notebook using SQL Magic\n",
    "* Validate Pandas and SQL Integration\n",
    "* Write CSV Data from File to Database Table\n",
    "* Write CSV Data from Files to Database Tables in Chunks\n",
    "* Overview of Deploying File to DB Loader Project"
   ]
  },
  {
   "cell_type": "markdown",
   "metadata": {},
   "source": [
    "* Install Python Dependencies for Pandas and Database Integration"
   ]
  },
  {
   "cell_type": "markdown",
   "metadata": {},
   "source": [
    "* Run Queries from Notebook using SQL Magic"
   ]
  },
  {
   "cell_type": "markdown",
   "metadata": {},
   "source": [
    "* Validate Pandas and SQL Integration"
   ]
  },
  {
   "cell_type": "markdown",
   "metadata": {},
   "source": [
    "* Write CSV Data from File to Database Table"
   ]
  },
  {
   "cell_type": "markdown",
   "metadata": {},
   "source": [
    "* Write CSV Data from Files to Database Tables in Chunks"
   ]
  },
  {
   "cell_type": "markdown",
   "metadata": {},
   "source": [
    "* Overview of Deploying File to DB Loader Project"
   ]
  }
 ],
 "metadata": {
  "language_info": {
   "name": "python"
  },
  "orig_nbformat": 4
 },
 "nbformat": 4,
 "nbformat_minor": 2
}
