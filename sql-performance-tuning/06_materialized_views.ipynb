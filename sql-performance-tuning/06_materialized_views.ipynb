{
    "cells": [
     {
      "cell_type": "markdown",
      "metadata": {},
      "source": [
       "# Materialized Views\n",
       "\n",
       "This notebook demonstrates how to effectively use materialized views in PostgreSQL:\n",
       "* Creating materialized views\n",
       "* Refresh strategies\n",
       "* Performance comparisons\n",
       "* Best practices"
      ]
     },
     {
      "cell_type": "markdown",
      "metadata": {},
      "source": [
       "## 1. Creating Basic Materialized Views"
      ]
     },
     {
      "cell_type": "code",
      "execution_count": null,
      "metadata": {},
      "source": [
       "-- Create materialized view for daily sales metrics\n",
       "CREATE MATERIALIZED VIEW daily_sales_metrics AS\n",
       "SELECT \n",
       "    DATE_TRUNC('day', o.order_date) as sale_date,\n",
       "    p.category,\n",
       "    COUNT(DISTINCT o.order_id) as num_orders,\n",
       "    COUNT(DISTINCT o.customer_id) as num_customers,\n",
       "    SUM(oi.quantity) as total_items,\n",
       "    SUM(oi.quantity * oi.unit_price) as total_revenue\n",
       "FROM orders o\n",
       "JOIN order_items oi ON o.order_id = oi.order_id\n",
       "JOIN products p ON oi.product_id = p.product_id\n",
       "WHERE o.status = 'Completed'\n",
       "GROUP BY DATE_TRUNC('day', o.order_date), p.category\n",
       "WITH DATA;"
      ]
     },
     {
      "cell_type": "markdown",
      "metadata": {},
      "source": [
       "## 2. Comparing Performance"
      ]
     },
     {
      "cell_type": "code",
      "execution_count": null,
      "metadata": {},
      "source": [
       "-- Original query (without materialized view)\n",
       "EXPLAIN ANALYZE\n",
       "SELECT \n",
       "    DATE_TRUNC('day', o.order_date) as sale_date,\n",
       "    p.category,\n",
       "    COUNT(DISTINCT o.order_id) as num_orders,\n",
       "    COUNT(DISTINCT o.customer_id) as num_customers,\n",
       "    SUM(oi.quantity) as total_items,\n",
       "    SUM(oi.quantity * oi.unit_price) as total_revenue\n",
       "FROM orders o\n",
       "JOIN order_items oi ON o.order_id = oi.order_id\n",
       "JOIN products p ON oi.product_id = p.product_id\n",
       "WHERE o.status = 'Completed'\n",
       "AND o.order_date >= '2022-01-01'\n",
       "GROUP BY DATE_TRUNC('day', o.order_date), p.category;\n",
       "\n",
       "-- Query using materialized view\n",
       "EXPLAIN ANALYZE\n",
       "SELECT *\n",
       "FROM daily_sales_metrics\n",
       "WHERE sale_date >= '2022-01-01';"
      ]
     },
     {
      "cell_type": "markdown",
      "metadata": {},
      "source": [
       "## 3. Refresh Strategies"
      ]
     },
     {
      "cell_type": "code",
      "execution_count": null,
      "metadata": {},
      "source": [
       "-- Complete refresh\n",
       "REFRESH MATERIALIZED VIEW daily_sales_metrics;\n",
       "\n",
       "-- Create materialized view that supports concurrent refresh\n",
       "CREATE MATERIALIZED VIEW customer_metrics\n",
       "WITH (fillfactor=70) AS\n",
       "SELECT \n",
       "    c.customer_id,\n",
       "    c.country,\n",
       "    c.segment,\n",
       "    COUNT(o.order_id) as total_orders,\n",
       "    SUM(o.total_amount) as total_spent,\n",
       "    MAX(o.order_date) as last_order_date,\n",
       "    AVG(o.total_amount) as avg_order_value\n",
       "FROM customers c\n",
       "LEFT JOIN orders o ON c.customer_id = o.customer_id\n",
       "GROUP BY c.customer_id, c.country, c.segment\n",
       "WITH DATA;\n",
       "\n",
       "-- Create unique index to support concurrent refresh\n",
       "CREATE UNIQUE INDEX idx_customer_metrics_id ON customer_metrics(customer_id);\n",
       "\n",
       "-- Concurrent refresh\n",
       "REFRESH MATERIALIZED VIEW CONCURRENTLY customer_metrics;"
      ]
     },
     {
      "cell_type": "markdown",
      "metadata": {},
      "source": [
       "## 4. Complex Materialized Views"
      ]
     },
     {
      "cell_type": "code",
      "execution_count": null,
      "metadata": {},
      "source": [
       "-- Create materialized view for product performance analysis\n",
       "CREATE MATERIALIZED VIEW product_performance AS\n",
       "WITH monthly_sales AS (\n",
       "    SELECT \n",
       "        p.product_id,\n",
       "        p.product_name,\n",
       "        p.category,\n",
       "        DATE_TRUNC('month', o.order_date) as sale_month,\n",
       "        SUM(oi.quantity) as units_sold,\n",
       "        SUM(oi.quantity * oi.unit_price) as revenue,\n",
       "        COUNT(DISTINCT o.order_id) as num_orders\n",
       "    FROM products p\n",
       "    JOIN order_items oi ON p.product_id = oi.product_id\n",
       "    JOIN orders o ON oi.order_id = o.order_id\n",
       "    WHERE o.status = 'Completed'\n",
       "    GROUP BY p.product_id, p.product_name, p.category, DATE_TRUNC('month', o.order_date)\n",
       ")\n",
       "SELECT \n",
       "    product_id,\n",
       "    product_name,\n",
       "    category,\n",
       "    sale_month,\n",
       "    units_sold,\n",
       "    revenue,\n",
       "    num_orders,\n",
       "    LAG(units_sold) OVER (PARTITION BY product_id ORDER BY sale_month) as prev_month_units,\n",
       "    LAG(revenue) OVER (PARTITION BY product_id ORDER BY sale_month) as prev_month_revenue\n",
       "FROM monthly_sales\n",
       "WITH DATA;\n",
       "\n",
       "-- Create indexes for common query patterns\n",
       "CREATE INDEX idx_product_perf_date ON product_performance(sale_month);\n",
       "CREATE INDEX idx_product_perf_category ON product_performance(category);"
      ]
     },
     {
      "cell_type": "markdown",
      "metadata": {},
      "source": [
       "## 5. Maintenance and Monitoring"
      ]
     },
     {
      "cell_type": "code",
      "execution_count": null,
      "metadata": {},
      "source": [
       "-- Check materialized view status\n",
       "SELECT \n",
       "    schemaname,\n",
       "    matviewname,\n",
       "    matviewowner,\n",
       "    ispopulated,\n",
       "    pg_size_pretty(pg_relation_size(schemaname || '.' || matviewname::regclass)) as size\n",
       "FROM pg_matviews;\n",
       "\n",
       "-- Check when materialized views were last refreshed\n",
       "SELECT \n",
       "    schemaname,\n",
       "    matviewname,\n",
       "    pg_size_pretty(pg_relation_size(schemaname || '.' || matviewname::regclass)) as size,\n",
       "    pg_stat_get_last_analyze_time(schemaname || '.' || matviewname::regclass) as last_analyzed,\n",
       "    pg_stat_get_last_autoanalyze_time(schemaname || '.' || matviewname::regclass) as last_autoanalyzed\n",
       "FROM pg_matviews;"
      ]
     },
     {
      "cell_type": "markdown",
      "metadata": {},
      "source": [
       "## Best Practices for Materialized Views\n",
       "\n",
       "1. **When to Use Materialized Views**\n",
       "   - Complex queries that are frequently executed\n",
       "   - Aggregations over large datasets\n",
       "   - Reports that don't need real-time data\n",
       "   - Data that changes infrequently\n",
       "\n",
       "2. **Refresh Strategy**\n",
       "   - Schedule refreshes during off-peak hours\n",
       "   - Use concurrent refresh when possible\n",
       "   - Consider refresh frequency vs. data freshness\n",
       "   - Monitor refresh performance\n",
       "\n",
       "3. **Design Considerations**\n",
       "   - Create appropriate indexes\n",
       "   - Consider storage requirements\n",
       "   - Plan for maintenance windows\n",
       "   - Use unique indexes for concurrent refresh\n",
       "\n",
       "4. **Common Pitfalls**\n",
       "   - Refreshing too frequently\n",
       "   - Not maintaining statistics\n",
       "   - Missing indexes on materialized views\n",
       "   - Ignoring storage costs"
      ]
     }
    ],
    "metadata": {
     "kernelspec": {
      "display_name": "SQL",
      "language": "sql",
      "name": "sql"
     },
     "language_info": {
      "name": "sql",
      "version": ""
     }
    },
    "nbformat": 4,
    "nbformat_minor": 4
   } 