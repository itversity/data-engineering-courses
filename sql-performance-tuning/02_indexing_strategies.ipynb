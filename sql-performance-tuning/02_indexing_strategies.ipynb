{
    "cells": [
     {
      "cell_type": "markdown",
      "metadata": {},
      "source": [
       "# Indexing Strategies\n",
       "\n",
       "This notebook demonstrates various indexing strategies for optimizing query performance:\n",
       "* B-tree indexes\n",
       "* Partial indexes\n",
       "* Covering indexes\n",
       "* Expression indexes\n",
       "* Index maintenance"
      ]
     },
     {
      "cell_type": "markdown",
      "metadata": {},
      "source": [
       "## 1. Understanding Existing Indexes"
      ]
     },
     {
      "cell_type": "code",
      "execution_count": null,
      "metadata": {},
      "source": [
       "-- View existing indexes\n",
       "SELECT \n",
       "    schemaname,\n",
       "    tablename,\n",
       "    indexname,\n",
       "    indexdef\n",
       "FROM pg_indexes\n",
       "WHERE schemaname = 'public'\n",
       "ORDER BY tablename, indexname;"
      ]
     },
     {
      "cell_type": "code",
      "execution_count": null,
      "metadata": {},
      "source": [
       "-- Check index usage statistics\n",
       "SELECT \n",
       "    schemaname,\n",
       "    relname as tablename,\n",
       "    indexrelname as indexname,\n",
       "    idx_scan as number_of_scans,\n",
       "    idx_tup_read as tuples_read,\n",
       "    idx_tup_fetch as tuples_fetched\n",
       "FROM pg_stat_user_indexes\n",
       "WHERE schemaname = 'public'\n",
       "ORDER BY idx_scan DESC;"
      ]
     },
     {
      "cell_type": "markdown",
      "metadata": {},
      "source": [
       "## 2. B-tree Index Examples"
      ]
     },
     {
      "cell_type": "code",
      "execution_count": null,
      "metadata": {},
      "source": [
       "-- Single-column B-tree index\n",
       "CREATE INDEX idx_orders_amount ON orders(total_amount);\n",
       "\n",
       "-- Query using the index\n",
       "EXPLAIN ANALYZE\n",
       "SELECT *\n",
       "FROM orders\n",
       "WHERE total_amount > 1000\n",
       "ORDER BY total_amount DESC\n",
       "LIMIT 10;"
      ]
     },
     {
      "cell_type": "code",
      "execution_count": null,
      "metadata": {},
      "source": [
       "-- Composite B-tree index\n",
       "CREATE INDEX idx_orders_customer_date_amount \n",
       "ON orders(customer_id, order_date, total_amount);\n",
       "\n",
       "-- Query using composite index\n",
       "EXPLAIN ANALYZE\n",
       "SELECT *\n",
       "FROM orders\n",
       "WHERE customer_id = 100\n",
       "AND order_date >= '2022-01-01'\n",
       "ORDER BY total_amount DESC;"
      ]
     },
     {
      "cell_type": "markdown",
      "metadata": {},
      "source": [
       "## 3. Partial Indexes"
      ]
     },
     {
      "cell_type": "code",
      "execution_count": null,
      "metadata": {},
      "source": [
       "-- Create partial index for high-value orders\n",
       "CREATE INDEX idx_high_value_orders \n",
       "ON orders(order_date, customer_id)\n",
       "WHERE total_amount > 1000;\n",
       "\n",
       "-- Query using partial index\n",
       "EXPLAIN ANALYZE\n",
       "SELECT c.first_name, c.last_name, o.order_date, o.total_amount\n",
       "FROM orders o\n",
       "JOIN customers c ON o.customer_id = c.customer_id\n",
       "WHERE o.total_amount > 1000\n",
       "AND o.order_date >= '2022-01-01';"
      ]
     },
     {
      "cell_type": "markdown",
      "metadata": {},
      "source": [
       "## 4. Covering Indexes"
      ]
     },
     {
      "cell_type": "code",
      "execution_count": null,
      "metadata": {},
      "source": [
       "-- Create covering index\n",
       "CREATE INDEX idx_orders_covering ON orders(\n",
       "    order_date,\n",
       "    customer_id,\n",
       "    total_amount,\n",
       "    status\n",
       ");\n",
       "\n",
       "-- Query using covering index\n",
       "EXPLAIN ANALYZE\n",
       "SELECT order_date, customer_id, total_amount, status\n",
       "FROM orders\n",
       "WHERE order_date BETWEEN '2022-01-01' AND '2022-12-31'\n",
       "ORDER BY total_amount DESC;"
      ]
     },
     {
      "cell_type": "markdown",
      "metadata": {},
      "source": [
       "## 5. Expression Indexes"
      ]
     },
     {
      "cell_type": "code",
      "execution_count": null,
      "metadata": {},
      "source": [
       "-- Create expression index\n",
       "CREATE INDEX idx_customer_lower_email \n",
       "ON customers(LOWER(email));\n",
       "\n",
       "-- Query using expression index\n",
       "EXPLAIN ANALYZE\n",
       "SELECT *\n",
       "FROM customers\n",
       "WHERE LOWER(email) = 'john.doe@email.com';"
      ]
     },
     {
      "cell_type": "markdown",
      "metadata": {},
      "source": [
       "## 6. Index Maintenance"
      ]
     },
     {
      "cell_type": "code",
      "execution_count": null,
      "metadata": {},
      "source": [
       "-- Find unused indexes\n",
       "SELECT \n",
       "    schemaname,\n",
       "    tablename,\n",
       "    indexname,\n",
       "    idx_scan,\n",
       "    pg_size_pretty(pg_relation_size(indexrelid)) as index_size\n",
       "FROM pg_stat_user_indexes\n",
       "WHERE idx_scan = 0\n",
       "AND indexrelname NOT LIKE 'pg_%';"
      ]
     },
     {
      "cell_type": "code",
      "execution_count": null,
      "metadata": {},
      "source": [
       "-- Rebuild index to remove bloat\n",
       "REINDEX INDEX idx_orders_amount;"
      ]
     },
     {
      "cell_type": "markdown",
      "metadata": {},
      "source": [
       "## Best Practices for Indexing\n",
       "\n",
       "1. **Index Selection**\n",
       "   - Create indexes on frequently queried columns\n",
       "   - Index foreign key columns\n",
       "   - Consider column selectivity\n",
       "   - Use composite indexes for multi-column conditions\n",
       "\n",
       "2. **Index Types**\n",
       "   - B-tree for equality and range queries\n",
       "   - Partial indexes for filtered queries\n",
       "   - Covering indexes for frequently accessed columns\n",
       "   - Expression indexes for function-based conditions\n",
       "\n",
       "3. **Index Maintenance**\n",
       "   - Monitor index usage\n",
       "   - Remove unused indexes\n",
       "   - Rebuild indexes periodically\n",
       "   - Update statistics regularly\n",
       "\n",
       "4. **Common Pitfalls**\n",
       "   - Over-indexing small tables\n",
       "   - Creating redundant indexes\n",
       "   - Ignoring index maintenance\n",
       "   - Not considering write performance"
      ]
     }
    ],
    "metadata": {
     "kernelspec": {
      "display_name": "SQL",
      "language": "sql",
      "name": "sql"
     },
     "language_info": {
      "name": "sql",
      "version": ""
     }
    },
    "nbformat": 4,
    "nbformat_minor": 4
   } 