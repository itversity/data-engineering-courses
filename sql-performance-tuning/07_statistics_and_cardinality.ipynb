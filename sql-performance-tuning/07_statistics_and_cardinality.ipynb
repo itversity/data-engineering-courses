{
    "cells": [
     {
      "cell_type": "markdown",
      "metadata": {},
      "source": [
       "# Statistics and Cardinality\n",
       "\n",
       "This notebook demonstrates how to work with table statistics and cardinality in PostgreSQL:\n",
       "* Understanding table statistics\n",
       "* Analyzing data distribution\n",
       "* Managing statistics\n",
       "* Impact on query optimization"
      ]
     },
     {
      "cell_type": "markdown",
      "metadata": {},
      "source": [
       "## 1. Viewing Table Statistics"
      ]
     },
     {
      "cell_type": "code",
      "execution_count": null,
      "metadata": {},
      "source": [
       "-- View basic table statistics\n",
       "SELECT \n",
       "    schemaname,\n",
       "    relname,\n",
       "    n_live_tup,\n",
       "    n_dead_tup,\n",
       "    last_vacuum,\n",
       "    last_autovacuum,\n",
       "    last_analyze,\n",
       "    last_autoanalyze\n",
       "FROM pg_stat_user_tables\n",
       "WHERE schemaname = 'public';\n",
       "\n",
       "-- View column statistics\n",
       "SELECT \n",
       "    tablename,\n",
       "    attname,\n",
       "    null_frac,\n",
       "    n_distinct,\n",
       "    most_common_vals,\n",
       "    most_common_freqs,\n",
       "    correlation\n",
       "FROM pg_stats\n",
       "WHERE tablename IN ('customers', 'orders', 'products')\n",
       "AND schemaname = 'public';"
      ]
     },
     {
      "cell_type": "markdown",
      "metadata": {},
      "source": [
       "## 2. Analyzing Data Distribution"
      ]
     },
     {
      "cell_type": "code",
      "execution_count": null,
      "metadata": {},
      "source": [
       "-- Analyze tables with increased statistics target\n",
       "ALTER TABLE orders ALTER COLUMN order_date SET STATISTICS 1000;\n",
       "ALTER TABLE orders ALTER COLUMN total_amount SET STATISTICS 1000;\n",
       "ANALYZE orders;\n",
       "\n",
       "-- View distribution of orders by date\n",
       "SELECT \n",
       "    DATE_TRUNC('month', order_date) as month,\n",
       "    COUNT(*) as num_orders,\n",
       "    MIN(total_amount) as min_amount,\n",
       "    MAX(total_amount) as max_amount,\n",
       "    AVG(total_amount) as avg_amount,\n",
       "    percentile_cont(0.5) WITHIN GROUP (ORDER BY total_amount) as median_amount\n",
       "FROM orders\n",
       "GROUP BY DATE_TRUNC('month', order_date)\n",
       "ORDER BY month;"
      ]
     },
     {
      "cell_type": "markdown",
      "metadata": {},
      "source": [
       "## 3. Creating Extended Statistics"
      ]
     },
     {
      "cell_type": "code",
      "execution_count": null,
      "metadata": {},
      "source": [
       "-- Create extended statistics for correlated columns\n",
       "CREATE STATISTICS order_stats (dependencies)\n",
       "ON order_date, total_amount, status\n",
       "FROM orders;\n",
       "\n",
       "CREATE STATISTICS customer_stats (dependencies)\n",
       "ON country, segment\n",
       "FROM customers;\n",
       "\n",
       "-- Analyze tables to gather extended statistics\n",
       "ANALYZE orders;\n",
       "ANALYZE customers;\n",
       "\n",
       "-- View extended statistics\n",
       "SELECT \n",
       "    stxname,\n",
       "    stxkeys,\n",
       "    stxkind\n",
       "FROM pg_statistic_ext\n",
       "JOIN pg_statistic_ext_data ON (oid = stxoid);"
      ]
     },
     {
      "cell_type": "markdown",
      "metadata": {},
      "source": [
       "## 4. Impact on Query Planning"
      ]
     },
     {
      "cell_type": "code",
      "execution_count": null,
      "metadata": {},
      "source": [
       "-- Compare query plans with and without statistics\n",
       "-- First, save current statistics\n",
       "CREATE TABLE orders_backup AS SELECT * FROM orders;\n",
       "\n",
       "-- Delete statistics\n",
       "ANALYZE orders WITH 0;\n",
       "\n",
       "-- Query plan without good statistics\n",
       "EXPLAIN (ANALYZE, BUFFERS)\n",
       "SELECT \n",
       "    status,\n",
       "    COUNT(*) as num_orders,\n",
       "    AVG(total_amount) as avg_amount\n",
       "FROM orders\n",
       "WHERE order_date >= '2022-01-01'\n",
       "AND total_amount > 1000\n",
       "GROUP BY status;\n",
       "\n",
       "-- Restore good statistics\n",
       "ANALYZE orders;\n",
       "\n",
       "-- Query plan with good statistics\n",
       "EXPLAIN (ANALYZE, BUFFERS)\n",
       "SELECT \n",
       "    status,\n",
       "    COUNT(*) as num_orders,\n",
       "    AVG(total_amount) as avg_amount\n",
       "FROM orders\n",
       "WHERE order_date >= '2022-01-01'\n",
       "AND total_amount > 1000\n",
       "GROUP BY status;"
      ]
     },
     {
      "cell_type": "markdown",
      "metadata": {},
      "source": [
       "## 5. Statistics Maintenance"
      ]
     },
     {
      "cell_type": "code",
      "execution_count": null,
      "metadata": {},
      "source": [
       "-- Update statistics for all tables\n",
       "ANALYZE VERBOSE;\n",
       "\n",
       "-- Update statistics for specific columns\n",
       "ANALYZE orders (order_date, total_amount);\n",
       "\n",
       "-- Monitor statistics age\n",
       "SELECT \n",
       "    schemaname,\n",
       "    relname,\n",
       "    n_mod_since_analyze,\n",
       "    last_analyze,\n",
       "    last_autoanalyze\n",
       "FROM pg_stat_user_tables\n",
       "WHERE schemaname = 'public'\n",
       "ORDER BY n_mod_since_analyze DESC;"
      ]
     },
     {
      "cell_type": "markdown",
      "metadata": {},
      "source": [
       "## Best Practices for Statistics Management\n",
       "\n",
       "1. **Gathering Statistics**\n",
       "   - Regular ANALYZE operations\n",
       "   - Appropriate statistics targets\n",
       "   - Extended statistics for correlated columns\n",
       "   - Monitor statistics age\n",
       "\n",
       "2. **Statistics Configuration**\n",
       "   - Set appropriate default_statistics_target\n",
       "   - Use column-specific statistics targets\n",
       "   - Consider extended statistics\n",
       "   - Monitor statistical correlation\n",
       "\n",
       "3. **Maintenance Schedule**\n",
       "   - Analyze after major data changes\n",
       "   - Regular statistics updates\n",
       "   - Monitor modification counts\n",
       "   - Schedule during low-usage periods\n",
       "\n",
       "4. **Common Issues**\n",
       "   - Stale statistics\n",
       "   - Insufficient statistics targets\n",
       "   - Missing extended statistics\n",
       "   - Poor correlation assumptions"
      ]
     }
    ],
    "metadata": {
     "kernelspec": {
      "display_name": "SQL",
      "language": "sql",
      "name": "sql"
     },
     "language_info": {
      "name": "sql",
      "version": ""
     }
    },
    "nbformat": 4,
    "nbformat_minor": 4
   } 