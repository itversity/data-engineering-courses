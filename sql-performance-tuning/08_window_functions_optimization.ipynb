{
    "cells": [
     {
      "cell_type": "markdown",
      "metadata": {},
      "source": [
       "# Window Functions Optimization\n",
       "\n",
       "This notebook demonstrates techniques for optimizing window functions in PostgreSQL:\n",
       "* Efficient window function usage\n",
       "* Frame clause optimization\n",
       "* Multiple window functions\n",
       "* Common performance pitfalls"
      ]
     },
     {
      "cell_type": "markdown",
      "metadata": {},
      "source": [
       "## 1. Basic Window Functions"
      ]
     },
     {
      "cell_type": "code",
      "execution_count": null,
      "metadata": {},
      "source": [
       "-- Simple running totals\n",
       "EXPLAIN ANALYZE\n",
       "SELECT \n",
       "    order_date,\n",
       "    total_amount,\n",
       "    SUM(total_amount) OVER (\n",
       "        ORDER BY order_date\n",
       "    ) as running_total\n",
       "FROM orders\n",
       "WHERE order_date >= '2022-01-01'\n",
       "ORDER BY order_date;\n",
       "\n",
       "-- Add index to improve performance\n",
       "CREATE INDEX idx_orders_date_amount ON orders(order_date, total_amount);"
      ]
     },
     {
      "cell_type": "markdown",
      "metadata": {},
      "source": [
       "## 2. Optimizing Frame Clauses"
      ]
     },
     {
      "cell_type": "code",
      "execution_count": null,
      "metadata": {},
      "source": [
       "-- Compare different frame clauses\n",
       "EXPLAIN ANALYZE\n",
       "SELECT \n",
       "    order_date,\n",
       "    total_amount,\n",
       "    -- Using ROWS (faster for small windows)\n",
       "    AVG(total_amount) OVER (\n",
       "        ORDER BY order_date\n",
       "        ROWS BETWEEN 3 PRECEDING AND CURRENT ROW\n",
       "    ) as moving_avg_rows,\n",
       "    -- Using RANGE (better for time-based windows)\n",
       "    AVG(total_amount) OVER (\n",
       "        ORDER BY order_date\n",
       "        RANGE BETWEEN INTERVAL '3 days' PRECEDING AND CURRENT ROW\n",
       "    ) as moving_avg_range\n",
       "FROM orders\n",
       "WHERE order_date >= '2022-01-01'\n",
       "ORDER BY order_date;"
      ]
     },
     {
      "cell_type": "markdown",
      "metadata": {},
      "source": [
       "## 3. Multiple Window Functions"
      ]
     },
     {
      "cell_type": "code",
      "execution_count": null,
      "metadata": {},
      "source": [
       "-- Inefficient: Multiple window functions with similar specifications\n",
       "EXPLAIN ANALYZE\n",
       "SELECT \n",
       "    order_date,\n",
       "    customer_id,\n",
       "    total_amount,\n",
       "    SUM(total_amount) OVER (PARTITION BY customer_id ORDER BY order_date) as customer_running_total,\n",
       "    AVG(total_amount) OVER (PARTITION BY customer_id ORDER BY order_date) as customer_running_avg,\n",
       "    COUNT(*) OVER (PARTITION BY customer_id ORDER BY order_date) as customer_running_count\n",
       "FROM orders\n",
       "WHERE order_date >= '2022-01-01'\n",
       "ORDER BY customer_id, order_date;\n",
       "\n",
       "-- Optimized: Using WINDOW clause\n",
       "EXPLAIN ANALYZE\n",
       "SELECT \n",
       "    order_date,\n",
       "    customer_id,\n",
       "    total_amount,\n",
       "    SUM(total_amount) OVER w as customer_running_total,\n",
       "    AVG(total_amount) OVER w as customer_running_avg,\n",
       "    COUNT(*) OVER w as customer_running_count\n",
       "FROM orders\n",
       "WHERE order_date >= '2022-01-01'\n",
       "WINDOW w AS (PARTITION BY customer_id ORDER BY order_date)\n",
       "ORDER BY customer_id, order_date;"
      ]
     },
     {
      "cell_type": "markdown",
      "metadata": {},
      "source": [
       "## 4. Complex Window Functions"
      ]
     },
     {
      "cell_type": "code",
      "execution_count": null,
      "metadata": {},
      "source": [
       "-- Complex analysis with multiple window functions\n",
       "WITH monthly_sales AS (\n",
       "    SELECT \n",
       "        DATE_TRUNC('month', o.order_date) as sale_month,\n",
       "        p.category,\n",
       "        SUM(oi.quantity * oi.unit_price) as revenue\n",
       "    FROM orders o\n",
       "    JOIN order_items oi ON o.order_id = oi.order_id\n",
       "    JOIN products p ON oi.product_id = p.product_id\n",
       "    WHERE o.status = 'Completed'\n",
       "    GROUP BY DATE_TRUNC('month', o.order_date), p.category\n",
       ")\n",
       "SELECT \n",
       "    sale_month,\n",
       "    category,\n",
       "    revenue,\n",
       "    LAG(revenue) OVER w as prev_month_revenue,\n",
       "    LEAD(revenue) OVER w as next_month_revenue,\n",
       "    revenue - LAG(revenue) OVER w as revenue_change,\n",
       "    ROUND(\n",
       "        ((revenue - LAG(revenue) OVER w) / NULLIF(LAG(revenue) OVER w, 0) * 100)::numeric,\n",
       "        2\n",
       "    ) as revenue_change_pct,\n",
       "    AVG(revenue) OVER (\n",
       "        PARTITION BY category\n",
       "        ORDER BY sale_month\n",
       "        ROWS BETWEEN 2 PRECEDING AND CURRENT ROW\n",
       "    ) as moving_avg_3month\n",
       "FROM monthly_sales\n",
       "WINDOW w AS (PARTITION BY category ORDER BY sale_month)\n",
       "ORDER BY category, sale_month;"
      ]
     },
     {
      "cell_type": "markdown",
      "metadata": {},
      "source": [
       "## 5. Performance Comparison"
      ]
     },
     {
      "cell_type": "code",
      "execution_count": null,
      "metadata": {},
      "source": [
       "-- Compare window function vs. self-join approach\n",
       "-- Window function approach\n",
       "EXPLAIN ANALYZE\n",
       "SELECT \n",
       "    o1.order_date,\n",
       "    o1.total_amount,\n",
       "    SUM(o1.total_amount) OVER (\n",
       "        ORDER BY o1.order_date\n",
       "        ROWS BETWEEN UNBOUNDED PRECEDING AND CURRENT ROW\n",
       "    ) as running_total\n",
       "FROM orders o1\n",
       "WHERE o1.order_date >= '2022-01-01'\n",
       "ORDER BY o1.order_date;\n",
       "\n",
       "-- Self-join approach\n",
       "EXPLAIN ANALYZE\n",
       "SELECT \n",
       "    o1.order_date,\n",
       "    o1.total_amount,\n",
       "    (SELECT SUM(o2.total_amount)\n",
       "     FROM orders o2\n",
       "     WHERE o2.order_date <= o1.order_date\n",
       "     AND o2.order_date >= '2022-01-01'\n",
       "    ) as running_total\n",
       "FROM orders o1\n",
       "WHERE o1.order_date >= '2022-01-01'\n",
       "ORDER BY o1.order_date;"
      ]
     },
     {
      "cell_type": "markdown",
      "metadata": {},
      "source": [
       "## Best Practices for Window Functions\n",
       "\n",
       "1. **Optimization Strategies**\n",
       "   - Use WINDOW clause for multiple functions\n",
       "   - Choose appropriate frame clauses\n",
       "   - Consider partitioning impact\n",
       "   - Index columns used in OVER clause\n",
       "\n",
       "2. **Frame Clause Selection**\n",
       "   - Use ROWS for count-based windows\n",
       "   - Use RANGE for value-based windows\n",
       "   - Minimize frame size when possible\n",
       "   - Consider memory usage\n",
       "\n",
       "3. **Performance Considerations**\n",
       "   - Avoid unnecessary sorting\n",
       "   - Use appropriate indexes\n",
       "   - Consider materialized views\n",
       "   - Monitor memory usage\n",
       "\n",
       "4. **Common Pitfalls**\n",
       "   - Excessive frame sizes\n",
       "   - Redundant window definitions\n",
       "   - Missing indexes\n",
       "   - Unnecessary sorting operations"
      ]
     }
    ],
    "metadata": {
     "kernelspec": {
      "display_name": "SQL",
      "language": "sql",
      "name": "sql"
     },
     "language_info": {
      "name": "sql",
      "version": ""
     }
    },
    "nbformat": 4,
    "nbformat_minor": 4
   } 