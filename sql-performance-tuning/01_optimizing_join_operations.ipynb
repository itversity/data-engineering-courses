{
    "cells": [
     {
      "cell_type": "markdown",
      "metadata": {},
      "source": [
       "# Optimizing JOIN Operations\n",
       "\n",
       "This notebook demonstrates various techniques for optimizing JOIN operations in PostgreSQL. We'll cover:\n",
       "* Different types of joins and their performance implications\n",
       "* Join order optimization\n",
       "* Using proper indexes for joins\n",
       "* Common join-related performance issues"
      ]
     },
     {
      "cell_type": "markdown",
      "metadata": {},
      "source": [
       "## 1. Understanding Different Types of Joins"
      ]
     },
     {
      "cell_type": "code",
      "execution_count": null,
      "metadata": {},
      "source": [
       "-- Example of INNER JOIN\n",
       "EXPLAIN ANALYZE\n",
       "SELECT \n",
       "    c.customer_id,\n",
       "    c.first_name,\n",
       "    c.last_name,\n",
       "    o.order_id,\n",
       "    o.order_date,\n",
       "    o.total_amount\n",
       "FROM customers c\n",
       "INNER JOIN orders o ON c.customer_id = o.customer_id\n",
       "WHERE c.country = 'USA'\n",
       "AND o.order_date >= '2022-01-01';"
      ]
     },
     {
      "cell_type": "code",
      "execution_count": null,
      "metadata": {},
      "source": [
       "-- Example of LEFT JOIN\n",
       "EXPLAIN ANALYZE\n",
       "SELECT \n",
       "    c.customer_id,\n",
       "    c.first_name,\n",
       "    c.last_name,\n",
       "    COUNT(o.order_id) as num_orders,\n",
       "    COALESCE(SUM(o.total_amount), 0) as total_spent\n",
       "FROM customers c\n",
       "LEFT JOIN orders o ON c.customer_id = o.customer_id\n",
       "GROUP BY c.customer_id, c.first_name, c.last_name\n",
       "HAVING COUNT(o.order_id) = 0;"
      ]
     },
     {
      "cell_type": "markdown",
      "metadata": {},
      "source": [
       "## 2. Join Order Optimization"
      ]
     },
     {
      "cell_type": "code",
      "execution_count": null,
      "metadata": {},
      "source": [
       "-- Complex join with multiple tables - Original query\n",
       "EXPLAIN ANALYZE\n",
       "SELECT \n",
       "    c.customer_id,\n",
       "    c.first_name,\n",
       "    c.last_name,\n",
       "    p.product_name,\n",
       "    p.category,\n",
       "    oi.quantity,\n",
       "    oi.unit_price,\n",
       "    s.supplier_name\n",
       "FROM customers c\n",
       "JOIN orders o ON c.customer_id = o.customer_id\n",
       "JOIN order_items oi ON o.order_id = oi.order_id\n",
       "JOIN products p ON oi.product_id = p.product_id\n",
       "JOIN suppliers s ON p.supplier_id = s.supplier_id\n",
       "WHERE c.country = 'USA'\n",
       "AND o.order_date >= '2022-01-01'\n",
       "AND p.category = 'Electronics';"
      ]
     },
     {
      "cell_type": "code",
      "execution_count": null,
      "metadata": {},
      "source": [
       "-- Optimized query with better join order and filtering\n",
       "EXPLAIN ANALYZE\n",
       "WITH filtered_products AS (\n",
       "    SELECT p.product_id, p.product_name, p.category, p.supplier_id\n",
       "    FROM products p\n",
       "    WHERE p.category = 'Electronics'\n",
       "),\n",
       "filtered_customers AS (\n",
       "    SELECT c.customer_id, c.first_name, c.last_name\n",
       "    FROM customers c\n",
       "    WHERE c.country = 'USA'\n",
       ")\n",
       "SELECT \n",
       "    c.customer_id,\n",
       "    c.first_name,\n",
       "    c.last_name,\n",
       "    p.product_name,\n",
       "    p.category,\n",
       "    oi.quantity,\n",
       "    oi.unit_price,\n",
       "    s.supplier_name\n",
       "FROM filtered_products p\n",
       "JOIN suppliers s ON p.supplier_id = s.supplier_id\n",
       "JOIN order_items oi ON p.product_id = oi.product_id\n",
       "JOIN orders o ON oi.order_id = o.order_id\n",
       "JOIN filtered_customers c ON o.customer_id = c.customer_id\n",
       "WHERE o.order_date >= '2022-01-01';"
      ]
     },
     {
      "cell_type": "markdown",
      "metadata": {},
      "source": [
       "## 3. Using Proper Indexes for Joins"
      ]
     },
     {
      "cell_type": "code",
      "execution_count": null,
      "metadata": {},
      "source": [
       "-- Check existing indexes\n",
       "SELECT \n",
       "    schemaname,\n",
       "    tablename,\n",
       "    indexname,\n",
       "    indexdef\n",
       "FROM pg_indexes\n",
       "WHERE schemaname = 'public'\n",
       "AND tablename IN ('customers', 'orders', 'order_items', 'products', 'suppliers');"
      ]
     },
     {
      "cell_type": "code",
      "execution_count": null,
      "metadata": {},
      "source": [
       "-- Create composite index for common join + filter condition\n",
       "CREATE INDEX idx_orders_customer_date ON orders(customer_id, order_date);\n",
       "\n",
       "-- Create composite index for products\n",
       "CREATE INDEX idx_products_category_supplier ON products(category, supplier_id);"
      ]
     },
     {
      "cell_type": "markdown",
      "metadata": {},
      "source": [
       "## 4. Common Join Performance Issues"
      ]
     },
     {
      "cell_type": "code",
      "execution_count": null,
      "metadata": {},
      "source": [
       "-- Example of cartesian product (bad performance)\n",
       "EXPLAIN ANALYZE\n",
       "SELECT c.customer_id, o.order_id\n",
       "FROM customers c, orders o\n",
       "WHERE c.country = 'USA';"
      ]
     },
     {
      "cell_type": "code",
      "execution_count": null,
      "metadata": {},
      "source": [
       "-- Fixed query using proper join\n",
       "EXPLAIN ANALYZE\n",
       "SELECT c.customer_id, o.order_id\n",
       "FROM customers c\n",
       "JOIN orders o ON c.customer_id = o.customer_id\n",
       "WHERE c.country = 'USA';"
      ]
     },
     {
      "cell_type": "markdown",
      "metadata": {},
      "source": [
       "## Best Practices for Join Optimization\n",
       "\n",
       "1. **Choose the Right Join Type**\n",
       "   - Use INNER JOIN when you need matching records from both tables\n",
       "   - Use LEFT JOIN when you need all records from the left table\n",
       "   - Avoid RIGHT JOIN (convert to LEFT JOIN for better readability)\n",
       "   - Use FULL OUTER JOIN only when absolutely necessary\n",
       "\n",
       "2. **Optimize Join Order**\n",
       "   - Start with the most filtered tables\n",
       "   - Use CTEs to materialize filtered results\n",
       "   - Consider table sizes when ordering joins\n",
       "   - Let the optimizer know about table sizes with proper statistics\n",
       "\n",
       "3. **Index Strategy**\n",
       "   - Create indexes on join columns\n",
       "   - Use composite indexes for join + filter conditions\n",
       "   - Maintain indexes regularly\n",
       "   - Monitor index usage\n",
       "\n",
       "4. **Query Structure**\n",
       "   - Always use explicit join syntax\n",
       "   - Apply filters early\n",
       "   - Use appropriate join conditions\n",
       "   - Consider denormalization for heavy reporting queries"
      ]
     }
    ],
    "metadata": {
     "kernelspec": {
      "display_name": "SQL",
      "language": "sql",
      "name": "sql"
     },
     "language_info": {
      "name": "sql",
      "version": ""
     }
    },
    "nbformat": 4,
    "nbformat_minor": 4
   }