{
    "cells": [
     {
      "cell_type": "markdown",
      "metadata": {},
      "source": [
       "# Partitioning Strategies\n",
       "\n",
       "This notebook demonstrates various table partitioning strategies in PostgreSQL:\n",
       "* Range partitioning\n",
       "* List partitioning\n",
       "* Hash partitioning\n",
       "* Partition maintenance"
      ]
     },
     {
      "cell_type": "markdown",
      "metadata": {},
      "source": [
       "## 1. Range Partitioning by Date"
      ]
     },
     {
      "cell_type": "code",
      "execution_count": null,
      "metadata": {},
      "source": [
       "-- Create partitioned orders table by date range\n",
       "CREATE TABLE orders_partitioned (\n",
       "    order_id SERIAL,\n",
       "    customer_id INT,\n",
       "    order_date TIMESTAMP,\n",
       "    ship_date TIMESTAMP,\n",
       "    ship_mode VARCHAR(20),\n",
       "    status VARCHAR(20),\n",
       "    total_amount DECIMAL(10,2),\n",
       "    created_at TIMESTAMP DEFAULT CURRENT_TIMESTAMP\n",
       ") PARTITION BY RANGE (order_date);\n",
       "\n",
       "-- Create partitions\n",
       "CREATE TABLE orders_2020 PARTITION OF orders_partitioned\n",
       "    FOR VALUES FROM ('2020-01-01') TO ('2021-01-01');\n",
       "\n",
       "CREATE TABLE orders_2021 PARTITION OF orders_partitioned\n",
       "    FOR VALUES FROM ('2021-01-01') TO ('2022-01-01');\n",
       "\n",
       "CREATE TABLE orders_2022 PARTITION OF orders_partitioned\n",
       "    FOR VALUES FROM ('2022-01-01') TO ('2023-01-01');\n",
       "\n",
       "CREATE TABLE orders_2023 PARTITION OF orders_partitioned\n",
       "    FOR VALUES FROM ('2023-01-01') TO ('2024-01-01');"
      ]
     },
     {
      "cell_type": "code",
      "execution_count": null,
      "metadata": {},
      "source": [
       "-- Insert data into partitioned table\n",
       "INSERT INTO orders_partitioned\n",
       "SELECT * FROM orders;\n",
       "\n",
       "-- Query using partition pruning\n",
       "EXPLAIN ANALYZE\n",
       "SELECT *\n",
       "FROM orders_partitioned\n",
       "WHERE order_date BETWEEN '2022-01-01' AND '2022-12-31';"
      ]
     },
     {
      "cell_type": "markdown",
      "metadata": {},
      "source": [
       "## 2. List Partitioning by Region"
      ]
     },
     {
      "cell_type": "code",
      "execution_count": null,
      "metadata": {},
      "source": [
       "-- Create partitioned customers table by country\n",
       "CREATE TABLE customers_partitioned (\n",
       "    customer_id SERIAL,\n",
       "    first_name VARCHAR(50),\n",
       "    last_name VARCHAR(50),\n",
       "    email VARCHAR(100),\n",
       "    country VARCHAR(50),\n",
       "    city VARCHAR(50),\n",
       "    postal_code VARCHAR(20),\n",
       "    segment VARCHAR(20),\n",
       "    created_at TIMESTAMP DEFAULT CURRENT_TIMESTAMP\n",
       ") PARTITION BY LIST (country);\n",
       "\n",
       "-- Create partitions\n",
       "CREATE TABLE customers_usa PARTITION OF customers_partitioned\n",
       "    FOR VALUES IN ('USA');\n",
       "\n",
       "CREATE TABLE customers_canada PARTITION OF customers_partitioned\n",
       "    FOR VALUES IN ('Canada');\n",
       "\n",
       "CREATE TABLE customers_uk PARTITION OF customers_partitioned\n",
       "    FOR VALUES IN ('UK');\n",
       "\n",
       "CREATE TABLE customers_other PARTITION OF customers_partitioned\n",
       "    DEFAULT;"
      ]
     },
     {
      "cell_type": "code",
      "execution_count": null,
      "metadata": {},
      "source": [
       "-- Insert data into partitioned table\n",
       "INSERT INTO customers_partitioned\n",
       "SELECT * FROM customers;\n",
       "\n",
       "-- Query specific partition\n",
       "EXPLAIN ANALYZE\n",
       "SELECT *\n",
       "FROM customers_partitioned\n",
       "WHERE country = 'USA';"
      ]
     },
     {
      "cell_type": "markdown",
      "metadata": {},
      "source": [
       "## 3. Hash Partitioning"
      ]
     },
     {
      "cell_type": "code",
      "execution_count": null,
      "metadata": {},
      "source": [
       "-- Create hash partitioned order_items table\n",
       "CREATE TABLE order_items_partitioned (\n",
       "    item_id SERIAL,\n",
       "    order_id INT,\n",
       "    product_id INT,\n",
       "    quantity INT,\n",
       "    unit_price DECIMAL(10,2),\n",
       "    discount DECIMAL(4,2),\n",
       "    created_at TIMESTAMP DEFAULT CURRENT_TIMESTAMP\n",
       ") PARTITION BY HASH (order_id);\n",
       "\n",
       "-- Create partitions\n",
       "CREATE TABLE order_items_p0 PARTITION OF order_items_partitioned\n",
       "    FOR VALUES WITH (MODULUS 4, REMAINDER 0);\n",
       "\n",
       "CREATE TABLE order_items_p1 PARTITION OF order_items_partitioned\n",
       "    FOR VALUES WITH (MODULUS 4, REMAINDER 1);\n",
       "\n",
       "CREATE TABLE order_items_p2 PARTITION OF order_items_partitioned\n",
       "    FOR VALUES WITH (MODULUS 4, REMAINDER 2);\n",
       "\n",
       "CREATE TABLE order_items_p3 PARTITION OF order_items_partitioned\n",
       "    FOR VALUES WITH (MODULUS 4, REMAINDER 3);"
      ]
     },
     {
      "cell_type": "code",
      "execution_count": null,
      "metadata": {},
      "source": [
       "-- Insert data into partitioned table\n",
       "INSERT INTO order_items_partitioned\n",
       "SELECT * FROM order_items;\n",
       "\n",
       "-- Query with specific order_id\n",
       "EXPLAIN ANALYZE\n",
       "SELECT *\n",
       "FROM order_items_partitioned\n",
       "WHERE order_id = 1000;"
      ]
     },
     {
      "cell_type": "markdown",
      "metadata": {},
      "source": [
       "## 4. Partition Maintenance"
      ]
     },
     {
      "cell_type": "code",
      "execution_count": null,
      "metadata": {},
      "source": [
       "-- Add new partition for future data\n",
       "CREATE TABLE orders_2024 PARTITION OF orders_partitioned\n",
       "    FOR VALUES FROM ('2024-01-01') TO ('2025-01-01');\n",
       "\n",
       "-- Detach old partition\n",
       "ALTER TABLE orders_partitioned DETACH PARTITION orders_2020;\n",
       "\n",
       "-- Archive old partition\n",
       "CREATE TABLE orders_archive AS\n",
       "SELECT * FROM orders_2020;\n",
       "\n",
       "-- Drop old partition\n",
       "DROP TABLE orders_2020;"
      ]
     },
     {
      "cell_type": "markdown",
      "metadata": {},
      "source": [
       "## Best Practices for Partitioning\n",
       "\n",
       "1. **Choosing Partition Strategy**\n",
       "   - Use RANGE for time-based or numerical ranges\n",
       "   - Use LIST for categorical data\n",
       "   - Use HASH for uniform distribution\n",
       "   - Consider data access patterns\n",
       "\n",
       "2. **Partition Size**\n",
       "   - Keep partitions reasonably sized\n",
       "   - Consider maintenance operations\n",
       "   - Plan for data growth\n",
       "   - Monitor partition usage\n",
       "\n",
       "3. **Maintenance Operations**\n",
       "   - Regular partition addition\n",
       "   - Archive old partitions\n",
       "   - Update statistics\n",
       "   - Monitor space usage\n",
       "\n",
       "4. **Common Pitfalls**\n",
       "   - Too many small partitions\n",
       "   - Poor partition key choice\n",
       "   - Insufficient maintenance planning\n",
       "   - Ignoring partition pruning"
      ]
     }
    ],
    "metadata": {
     "kernelspec": {
      "display_name": "SQL",
      "language": "sql",
      "name": "sql"
     },
     "language_info": {
      "name": "sql",
      "version": ""
     }
    },
    "nbformat": 4,
    "nbformat_minor": 4
   } 