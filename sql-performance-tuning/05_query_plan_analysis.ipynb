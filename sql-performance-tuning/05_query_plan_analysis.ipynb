{
    "cells": [
     {
      "cell_type": "markdown",
      "metadata": {},
      "source": [
       "# Query Plan Analysis\n",
       "\n",
       "This notebook demonstrates how to analyze and understand query execution plans in PostgreSQL:\n",
       "* Reading EXPLAIN output\n",
       "* Understanding different scan types\n",
       "* Analyzing join strategies\n",
       "* Identifying performance bottlenecks"
      ]
     },
     {
      "cell_type": "markdown",
      "metadata": {},
      "source": [
       "## 1. Basic EXPLAIN Usage"
      ]
     },
     {
      "cell_type": "code",
      "execution_count": null,
      "metadata": {},
      "source": [
       "-- Simple query plan\n",
       "EXPLAIN\n",
       "SELECT *\n",
       "FROM customers\n",
       "WHERE country = 'USA';\n",
       "\n",
       "-- Query plan with execution statistics\n",
       "EXPLAIN ANALYZE\n",
       "SELECT *\n",
       "FROM customers\n",
       "WHERE country = 'USA';"
      ]
     },
     {
      "cell_type": "markdown",
      "metadata": {},
      "source": [
       "## 2. Understanding Different Scan Types"
      ]
     },
     {
      "cell_type": "code",
      "execution_count": null,
      "metadata": {},
      "source": [
       "-- Sequential scan (full table scan)\n",
       "EXPLAIN ANALYZE\n",
       "SELECT *\n",
       "FROM orders\n",
       "WHERE total_amount > 1000;\n",
       "\n",
       "-- Index scan\n",
       "EXPLAIN ANALYZE\n",
       "SELECT *\n",
       "FROM orders\n",
       "WHERE order_date >= '2022-01-01';\n",
       "\n",
       "-- Bitmap scan\n",
       "EXPLAIN ANALYZE\n",
       "SELECT *\n",
       "FROM orders\n",
       "WHERE order_date >= '2022-01-01'\n",
       "AND total_amount > 1000;"
      ]
     },
     {
      "cell_type": "markdown",
      "metadata": {},
      "source": [
       "## 3. Analyzing Join Strategies"
      ]
     },
     {
      "cell_type": "code",
      "execution_count": null,
      "metadata": {},
      "source": [
       "-- Nested loop join\n",
       "EXPLAIN ANALYZE\n",
       "SELECT c.first_name, c.last_name, o.order_id, o.total_amount\n",
       "FROM customers c\n",
       "JOIN orders o ON c.customer_id = o.customer_id\n",
       "WHERE c.country = 'USA'\n",
       "AND o.order_date >= '2022-01-01'\n",
       "LIMIT 10;\n",
       "\n",
       "-- Hash join\n",
       "EXPLAIN ANALYZE\n",
       "SELECT c.first_name, c.last_name, COUNT(*) as num_orders\n",
       "FROM customers c\n",
       "JOIN orders o ON c.customer_id = o.customer_id\n",
       "GROUP BY c.customer_id, c.first_name, c.last_name;\n",
       "\n",
       "-- Merge join\n",
       "EXPLAIN ANALYZE\n",
       "SELECT c.first_name, c.last_name, o.order_date, o.total_amount\n",
       "FROM customers c\n",
       "JOIN orders o ON c.customer_id = o.customer_id\n",
       "ORDER BY c.customer_id, o.order_date;"
      ]
     },
     {
      "cell_type": "markdown",
      "metadata": {},
      "source": [
       "## 4. Complex Query Analysis"
      ]
     },
     {
      "cell_type": "code",
      "execution_count": null,
      "metadata": {},
      "source": [
       "-- Complex query with multiple joins and aggregations\n",
       "EXPLAIN (ANALYZE, BUFFERS)\n",
       "SELECT \n",
       "    c.country,\n",
       "    p.category,\n",
       "    DATE_TRUNC('month', o.order_date) as month,\n",
       "    COUNT(DISTINCT c.customer_id) as num_customers,\n",
       "    COUNT(DISTINCT o.order_id) as num_orders,\n",
       "    SUM(oi.quantity * oi.unit_price) as total_revenue\n",
       "FROM customers c\n",
       "JOIN orders o ON c.customer_id = o.customer_id\n",
       "JOIN order_items oi ON o.order_id = oi.order_id\n",
       "JOIN products p ON oi.product_id = p.product_id\n",
       "WHERE o.order_date >= '2022-01-01'\n",
       "AND o.status = 'Completed'\n",
       "GROUP BY c.country, p.category, DATE_TRUNC('month', o.order_date)\n",
       "HAVING COUNT(DISTINCT o.order_id) > 10\n",
       "ORDER BY total_revenue DESC;"
      ]
     },
     {
      "cell_type": "markdown",
      "metadata": {},
      "source": [
       "## 5. Identifying Bottlenecks"
      ]
     },
     {
      "cell_type": "code",
      "execution_count": null,
      "metadata": {},
      "source": [
       "-- Query with potential bottlenecks\n",
       "EXPLAIN (ANALYZE, BUFFERS)\n",
       "WITH customer_stats AS (\n",
       "    SELECT \n",
       "        customer_id,\n",
       "        COUNT(*) as order_count,\n",
       "        SUM(total_amount) as total_spent\n",
       "    FROM orders\n",
       "    WHERE status = 'Completed'\n",
       "    GROUP BY customer_id\n",
       ")\n",
       "SELECT \n",
       "    c.country,\n",
       "    c.segment,\n",
       "    COUNT(*) as num_customers,\n",
       "    AVG(cs.order_count) as avg_orders,\n",
       "    AVG(cs.total_spent) as avg_spent,\n",
       "    MAX(cs.total_spent) as max_spent\n",
       "FROM customers c\n",
       "JOIN customer_stats cs ON c.customer_id = cs.customer_id\n",
       "GROUP BY c.country, c.segment\n",
       "ORDER BY avg_spent DESC;"
      ]
     },
     {
      "cell_type": "markdown",
      "metadata": {},
      "source": [
       "## Understanding Query Plan Components\n",
       "\n",
       "1. **Scan Types**\n",
       "   - Sequential Scan: Full table scan\n",
       "   - Index Scan: Using an index to fetch rows\n",
       "   - Bitmap Scan: Two-phase scan using bitmap\n",
       "   - Index Only Scan: Using only index data\n",
       "\n",
       "2. **Join Types**\n",
       "   - Nested Loop: Good for small tables or indexed columns\n",
       "   - Hash Join: Good for larger tables, equality conditions\n",
       "   - Merge Join: Good for pre-sorted data\n",
       "\n",
       "3. **Cost Components**\n",
       "   - Startup Cost: Cost before first row\n",
       "   - Total Cost: Estimated total cost\n",
       "   - Actual Time: Real execution time\n",
       "   - Rows: Number of rows processed\n",
       "\n",
       "4. **Common Issues**\n",
       "   - Missing indexes\n",
       "   - Poor join order\n",
       "   - Inefficient scan methods\n",
       "   - Memory usage problems"
      ]
     }
    ],
    "metadata": {
     "kernelspec": {
      "display_name": "SQL",
      "language": "sql",
      "name": "sql"
     },
     "language_info": {
      "name": "sql",
      "version": ""
     }
    },
    "nbformat": 4,
    "nbformat_minor": 4
   } 