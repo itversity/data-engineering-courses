{
    "cells": [
     {
      "cell_type": "markdown",
      "metadata": {},
      "source": [
       "# Subquery Optimization\n",
       "\n",
       "This notebook demonstrates techniques for optimizing subqueries in PostgreSQL:\n",
       "* Converting subqueries to JOINs\n",
       "* Optimizing correlated subqueries\n",
       "* Using EXISTS vs IN\n",
       "* Common Table Expressions (CTEs)"
      ]
     },
     {
      "cell_type": "markdown",
      "metadata": {},
      "source": [
       "## 1. Inefficient Subquery Examples"
      ]
     },
     {
      "cell_type": "code",
      "execution_count": null,
      "metadata": {},
      "source": [
       "-- Example of inefficient correlated subquery\n",
       "EXPLAIN ANALYZE\n",
       "SELECT \n",
       "    c.customer_id,\n",
       "    c.first_name,\n",
       "    c.last_name,\n",
       "    (\n",
       "        SELECT COUNT(*)\n",
       "        FROM orders o\n",
       "        WHERE o.customer_id = c.customer_id\n",
       "        AND o.status = 'Completed'\n",
       "    ) as completed_orders,\n",
       "    (\n",
       "        SELECT COALESCE(SUM(total_amount), 0)\n",
       "        FROM orders o\n",
       "        WHERE o.customer_id = c.customer_id\n",
       "        AND o.status = 'Completed'\n",
       "    ) as total_spent\n",
       "FROM customers c\n",
       "WHERE c.country = 'USA';"
      ]
     },
     {
      "cell_type": "markdown",
      "metadata": {},
      "source": [
       "## 2. Optimized JOIN-based Solutions"
      ]
     },
     {
      "cell_type": "code",
      "execution_count": null,
      "metadata": {},
      "source": [
       "-- Optimized version using JOIN\n",
       "EXPLAIN ANALYZE\n",
       "SELECT \n",
       "    c.customer_id,\n",
       "    c.first_name,\n",
       "    c.last_name,\n",
       "    COUNT(o.order_id) as completed_orders,\n",
       "    COALESCE(SUM(o.total_amount), 0) as total_spent\n",
       "FROM customers c\n",
       "LEFT JOIN orders o ON c.customer_id = o.customer_id\n",
       "    AND o.status = 'Completed'\n",
       "WHERE c.country = 'USA'\n",
       "GROUP BY c.customer_id, c.first_name, c.last_name;"
      ]
     },
     {
      "cell_type": "markdown",
      "metadata": {},
      "source": [
       "## 3. EXISTS vs IN Comparison"
      ]
     },
     {
      "cell_type": "code",
      "execution_count": null,
      "metadata": {},
      "source": [
       "-- Using IN (generally less efficient)\n",
       "EXPLAIN ANALYZE\n",
       "SELECT p.product_id, p.product_name, p.category\n",
       "FROM products p\n",
       "WHERE p.product_id IN (\n",
       "    SELECT oi.product_id\n",
       "    FROM order_items oi\n",
       "    JOIN orders o ON oi.order_id = o.order_id\n",
       "    WHERE o.order_date >= '2022-01-01'\n",
       "    AND oi.quantity >= 5\n",
       ");"
      ]
     },
     {
      "cell_type": "code",
      "execution_count": null,
      "metadata": {},
      "source": [
       "-- Using EXISTS (often more efficient)\n",
       "EXPLAIN ANALYZE\n",
       "SELECT p.product_id, p.product_name, p.category\n",
       "FROM products p\n",
       "WHERE EXISTS (\n",
       "    SELECT 1\n",
       "    FROM order_items oi\n",
       "    JOIN orders o ON oi.order_id = o.order_id\n",
       "    WHERE oi.product_id = p.product_id\n",
       "    AND o.order_date >= '2022-01-01'\n",
       "    AND oi.quantity >= 5\n",
       ");"
      ]
     },
     {
      "cell_type": "markdown",
      "metadata": {},
      "source": [
       "## 4. Using CTEs for Complex Queries"
      ]
     },
     {
      "cell_type": "code",
      "execution_count": null,
      "metadata": {},
      "source": [
       "-- Complex query with multiple subqueries\n",
       "EXPLAIN ANALYZE\n",
       "WITH customer_orders AS (\n",
       "    SELECT \n",
       "        customer_id,\n",
       "        COUNT(*) as order_count,\n",
       "        SUM(total_amount) as total_spent\n",
       "    FROM orders\n",
       "    WHERE status = 'Completed'\n",
       "    GROUP BY customer_id\n",
       "),\n",
       "high_value_customers AS (\n",
       "    SELECT \n",
       "        co.customer_id,\n",
       "        c.first_name,\n",
       "        c.last_name,\n",
       "        c.country,\n",
       "        co.order_count,\n",
       "        co.total_spent\n",
       "    FROM customer_orders co\n",
       "    JOIN customers c ON co.customer_id = c.customer_id\n",
       "    WHERE co.total_spent > 10000\n",
       ")\n",
       "SELECT \n",
       "    hvc.country,\n",
       "    COUNT(*) as num_customers,\n",
       "    AVG(hvc.order_count) as avg_orders,\n",
       "    AVG(hvc.total_spent) as avg_spent\n",
       "FROM high_value_customers hvc\n",
       "GROUP BY hvc.country\n",
       "ORDER BY avg_spent DESC;"
      ]
     },
     {
      "cell_type": "markdown",
      "metadata": {},
      "source": [
       "## 5. Optimizing NOT EXISTS Queries"
      ]
     },
     {
      "cell_type": "code",
      "execution_count": null,
      "metadata": {},
      "source": [
       "-- Find customers with no orders (using NOT EXISTS)\n",
       "EXPLAIN ANALYZE\n",
       "SELECT c.customer_id, c.first_name, c.last_name\n",
       "FROM customers c\n",
       "WHERE NOT EXISTS (\n",
       "    SELECT 1\n",
       "    FROM orders o\n",
       "    WHERE o.customer_id = c.customer_id\n",
       ");"
      ]
     },
     {
      "cell_type": "code",
      "execution_count": null,
      "metadata": {},
      "source": [
       "-- Alternative using LEFT JOIN (often more readable)\n",
       "EXPLAIN ANALYZE\n",
       "SELECT c.customer_id, c.first_name, c.last_name\n",
       "FROM customers c\n",
       "LEFT JOIN orders o ON c.customer_id = o.customer_id\n",
       "WHERE o.order_id IS NULL;"
      ]
     },
     {
      "cell_type": "markdown",
      "metadata": {},
      "source": [
       "## Best Practices for Subquery Optimization\n",
       "\n",
       "1. **Choose the Right Approach**\n",
       "   - Convert correlated subqueries to JOINs when possible\n",
       "   - Use EXISTS instead of IN for better performance\n",
       "   - Consider CTEs for complex queries\n",
       "   - Use LEFT JOIN NULL checks instead of NOT EXISTS\n",
       "\n",
       "2. **Performance Considerations**\n",
       "   - Avoid multiple executions of correlated subqueries\n",
       "   - Use proper indexes on join and filter columns\n",
       "   - Consider materialized CTEs for large datasets\n",
       "   - Monitor execution plans for nested loops\n",
       "\n",
       "3. **Query Structure**\n",
       "   - Break down complex subqueries into CTEs\n",
       "   - Apply filters early in the query\n",
       "   - Use appropriate join types\n",
       "   - Consider query readability\n",
       "\n",
       "4. **Common Anti-patterns**\n",
       "   - Unnecessary correlated subqueries\n",
       "   - IN clauses with large result sets\n",
       "   - Deeply nested subqueries\n",
       "   - Redundant subqueries"
      ]
     }
    ],
    "metadata": {
     "kernelspec": {
      "display_name": "SQL",
      "language": "sql",
      "name": "sql"
     },
     "language_info": {
      "name": "sql",
      "version": ""
     }
    },
    "nbformat": 4,
    "nbformat_minor": 4
   }