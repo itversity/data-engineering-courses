{
 "cells": [
  {
   "cell_type": "markdown",
   "metadata": {},
   "source": [
    "## Solutions - DML or CRUD Operations\n",
    "\n",
    "Let's create a table and perform database operations using direct SQL. We will provide the `CREATE TABLE` statement to create required table for DML Operations. Here are the solutions for the exercises.\n",
    "\n",
    "### Setup Database Table for DML Operations\n",
    "\n",
    "Create table - **courses**\n",
    "* `course_id` - sequence generated integer and primary key\n",
    "* `course_name` - which holds alpha numeric or string values up to 60 characters\n",
    "* `course_author` - which holds the name of the author up to 40 characters\n",
    "* `course_status` - which holds one of these values (`published`, `draft`, `inactive`). \n",
    "* `course_published_dt` - which holds date type value. \n",
    "\n",
    "Here are the commands for the **courses** table."
   ]
  },
  {
   "cell_type": "code",
   "execution_count": null,
   "metadata": {},
   "outputs": [],
   "source": [
    "%load_ext sql"
   ]
  },
  {
   "cell_type": "code",
   "execution_count": null,
   "metadata": {},
   "outputs": [],
   "source": [
    "%%sql\n",
    "\n",
    "DROP TABLE IF EXISTS courses;"
   ]
  },
  {
   "cell_type": "code",
   "execution_count": null,
   "metadata": {},
   "outputs": [],
   "source": [
    "%%sql\n",
    "\n",
    "CREATE TABLE courses (\n",
    "    course_id SERIAL PRIMARY KEY,\n",
    "    course_name VARCHAR(60),\n",
    "    course_author VARCHAR(40),\n",
    "    course_status VARCHAR(9),\n",
    "    course_published_dt DATE\n",
    ")"
   ]
  },
  {
   "cell_type": "code",
   "execution_count": null,
   "metadata": {},
   "outputs": [],
   "source": [
    "%%sql\n",
    "\n",
    "SELECT * FROM courses"
   ]
  },
  {
   "cell_type": "markdown",
   "metadata": {},
   "source": [
    "### Exercise 1 - Inserting Data\n",
    "\n",
    "* Insert data into courses using the data provided. Make sure id is system generated.\n",
    "\n",
    "|Course Name                      |Course Author         |Course Status|Course Published Date|\n",
    "|---------------------------------|----------------------|-------------|---------------------|\n",
    "|Programming using Python         |Bob Dillon            |published    |2020-09-30           |\n",
    "|Data Engineering using Python    |Bob Dillon            |published    |2020-07-15           |\n",
    "|Data Engineering using Scala     |Elvis Presley         |draft        |                     |\n",
    "|Programming using Scala          |Elvis Presley         |published    |2020-05-12           |\n",
    "|Programming using Java           |Mike Jack             |inactive     |2020-08-10           |\n",
    "|Web Applications - Python Flask  |Bob Dillon            |inactive     |2020-07-20           |\n",
    "|Web Applications - Java Spring   |Mike Jack             |draft        |                     |\n",
    "|Pipeline Orchestration - Python  |Bob Dillon            |draft        |                     |\n",
    "|Streaming Pipelines - Python     |Bob Dillon            |published    |2020-10-05           |\n",
    "|Web Applications - Scala Play    |Elvis Presley         |inactive     |2020-09-30           |\n",
    "|Web Applications - Python Django |Bob Dillon            |published    |2020-06-23           |\n",
    "|Server Automation - Ansible      |Uncle Sam             |published    |2020-07-05           |\n",
    "\n",
    "Provide the insert statement(s) as answer for this exercise."
   ]
  },
  {
   "cell_type": "code",
   "execution_count": null,
   "metadata": {},
   "outputs": [],
   "source": [
    "%%sql\n",
    "\n",
    "INSERT INTO courses\n",
    "    (course_name, course_author, course_status, course_published_dt)\n",
    "VALUES\n",
    "    ('Programming using Python', 'Bob Dillon', 'published', '2020-09-30'),\n",
    "    ('Data Engineering using Python', 'Bob Dillon', 'published', '2020-07-15'),\n",
    "    ('Data Engineering using Scala', 'Elvis Presley', 'draft', null),\n",
    "    ('Programming using Scala' , 'Elvis Presley' , 'published' , '2020-05-12'),\n",
    "    ('Programming using Java' , 'Mike Jack' , 'inactive' , '2020-08-10'),\n",
    "    ('Web Applications - Python Flask' , 'Bob Dillon' , 'inactive' , '2020-07-20'),\n",
    "    ('Web Applications - Java Spring' , 'Bob Dillon' , 'draft' , null),\n",
    "    ('Pipeline Orchestration - Python' , 'Bob Dillon' , 'draft' , null),\n",
    "    ('Streaming Pipelines - Python' , 'Bob Dillon' , 'published' , '2020-10-05'),\n",
    "    ('Web Applications - Scala Play' , 'Elvis Presley' , 'inactive' , '2020-09-30'),\n",
    "    ('Web Applications - Python Django' , 'Bob Dillon' , 'published' , '2020-06-23'),\n",
    "    ('Server Automation - Ansible' , 'Uncle Sam' , 'published' , '2020-07-05')"
   ]
  },
  {
   "cell_type": "code",
   "execution_count": null,
   "metadata": {},
   "outputs": [],
   "source": [
    "%%sql\n",
    "SELECT * FROM courses\n",
    "ORDER BY course_id"
   ]
  },
  {
   "cell_type": "markdown",
   "metadata": {},
   "source": [
    "### Exercise 2 - Updating Data\n",
    "\n",
    "Update the status of all the **draft courses** related to Python and Scala to **published** along with the **course_published_dt using system date**. \n",
    "\n",
    "Provide the update statement as answer for this exercise."
   ]
  },
  {
   "cell_type": "code",
   "execution_count": null,
   "metadata": {},
   "outputs": [],
   "source": [
    "%%sql\n",
    "SELECT * \n",
    "FROM courses\n",
    "WHERE course_status = 'draft'\n",
    "ORDER BY course_id"
   ]
  },
  {
   "cell_type": "code",
   "execution_count": null,
   "metadata": {},
   "outputs": [],
   "source": [
    "%%sql\n",
    "SELECT * \n",
    "FROM courses\n",
    "WHERE course_status = 'draft'\n",
    "    AND (lower(course_name) LIKE '%scala%' OR lower(course_name) LIKE '%python%' )\n",
    "ORDER BY course_id"
   ]
  },
  {
   "cell_type": "code",
   "execution_count": null,
   "metadata": {},
   "outputs": [],
   "source": [
    "%%sql\n",
    "UPDATE courses\n",
    "SET\n",
    "    course_status = 'published',\n",
    "    course_published_dt = current_date\n",
    "WHERE course_status = 'draft'\n",
    "    AND (lower(course_name) LIKE '%scala%' OR lower(course_name) LIKE '%python%' )"
   ]
  },
  {
   "cell_type": "code",
   "execution_count": null,
   "metadata": {},
   "outputs": [],
   "source": [
    "%%sql\n",
    "SELECT * \n",
    "FROM courses\n",
    "WHERE course_status = 'draft'\n",
    "ORDER BY course_id"
   ]
  },
  {
   "cell_type": "code",
   "execution_count": null,
   "metadata": {},
   "outputs": [],
   "source": [
    "%%sql\n",
    "SELECT * \n",
    "FROM courses\n",
    "ORDER BY course_id"
   ]
  },
  {
   "cell_type": "code",
   "execution_count": null,
   "metadata": {},
   "outputs": [],
   "source": [
    "%%sql\n",
    "SELECT * \n",
    "FROM courses\n",
    "WHERE (lower(course_name) LIKE '%scala%' OR lower(course_name) LIKE '%python%')\n",
    "    AND course_published_dt >= current_date\n",
    "ORDER BY course_id"
   ]
  },
  {
   "cell_type": "markdown",
   "metadata": {},
   "source": [
    "### Exercise 3 - Deleting Data\n",
    "\n",
    "Delete all the courses which are neither in draft mode nor published.\n",
    "\n",
    "Provide the delete statement as answer for this exercise."
   ]
  },
  {
   "cell_type": "markdown",
   "metadata": {},
   "source": [
    "Validation - Get count of all published courses by author and make sure output is sorted in descending order by count. \n",
    "\n",
    "```sql\n",
    "SELECT course_author, count(1) AS course_count\n",
    "FROM courses\n",
    "WHERE course_status= 'published'\n",
    "GROUP BY course_author\n",
    "```\n",
    "\n",
    "|Course Author   |Course Count|\n",
    "|----------------|------------|\n",
    "|Bob Dillon      |5           |\n",
    "|Elvis Presley   |2           |\n",
    "|Uncle Sam       |1           |"
   ]
  },
  {
   "cell_type": "code",
   "execution_count": null,
   "metadata": {},
   "outputs": [],
   "source": [
    "%%sql\n",
    "\n",
    "SELECT * FROM courses\n",
    "ORDER BY 1"
   ]
  },
  {
   "cell_type": "code",
   "execution_count": null,
   "metadata": {},
   "outputs": [],
   "source": [
    "%%sql\n",
    "\n",
    "SELECT * FROM courses\n",
    "WHERE course_status NOT IN ('published', 'draft')\n",
    "ORDER BY 1"
   ]
  },
  {
   "cell_type": "code",
   "execution_count": null,
   "metadata": {},
   "outputs": [],
   "source": [
    "%%sql\n",
    "\n",
    "DELETE FROM courses\n",
    "WHERE course_status NOT IN ('published', 'draft')"
   ]
  },
  {
   "cell_type": "code",
   "execution_count": null,
   "metadata": {},
   "outputs": [],
   "source": [
    "%%sql\n",
    "\n",
    "SELECT * FROM courses\n",
    "ORDER BY 1"
   ]
  },
  {
   "cell_type": "code",
   "execution_count": null,
   "metadata": {},
   "outputs": [],
   "source": [
    "%%sql\n",
    "SELECT course_author, count(1) AS course_count\n",
    "FROM courses\n",
    "WHERE course_status= 'published'\n",
    "GROUP BY course_author"
   ]
  },
  {
   "cell_type": "code",
   "execution_count": null,
   "metadata": {},
   "outputs": [],
   "source": [
    "%%sql\n",
    "SELECT course_status, count(1) AS course_count\n",
    "FROM courses\n",
    "GROUP BY course_status"
   ]
  },
  {
   "cell_type": "code",
   "execution_count": null,
   "metadata": {},
   "outputs": [],
   "source": []
  }
 ],
 "metadata": {
  "kernelspec": {
   "display_name": "Python 3.9.12 ('de-venv': venv)",
   "language": "python",
   "name": "python3"
  },
  "language_info": {
   "codemirror_mode": {
    "name": "ipython",
    "version": 3
   },
   "file_extension": ".py",
   "mimetype": "text/x-python",
   "name": "python",
   "nbconvert_exporter": "python",
   "pygments_lexer": "ipython3",
   "version": "3.9.12"
  },
  "vscode": {
   "interpreter": {
    "hash": "21cbb09f01f019d5f6b1cf249e417ce80e445d4c227fbeb2062a530f0435c64e"
   }
  }
 },
 "nbformat": 4,
 "nbformat_minor": 4
}
