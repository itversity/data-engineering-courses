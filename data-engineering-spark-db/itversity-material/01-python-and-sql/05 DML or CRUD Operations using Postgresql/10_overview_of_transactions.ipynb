{
 "cells": [
  {
   "cell_type": "markdown",
   "metadata": {},
   "source": [
    "## Overview of Database Transactions\n",
    "\n",
    "Let us go through the details related to Database Transactions.\n",
    "* We typically perform operations such as `COMMIT` and `ROLLBACK` via the applications.\n",
    "* `COMMIT` will persist the changes in the database.\n",
    "* `ROLLBACK` will revert the uncommitted changes in the database.\n",
    "* We typically rollback the uncommitted changes in a transaction if there is any exception as part of the application logic flow.\n",
    "* For example, once the order is placed all the items that are added to shopping cart will be rolled back if the payment using credit card fails.\n",
    "* By default every operation is typically committed in Postgres. We will get into the details related to transaction as part of application development later.\n",
    "* Commands such as `COMMIT`, `ROLLBACK` typically comes under TCL (Transaction Control Language)\n",
    "\n",
    "```sql\n",
    "DROP TABLE IF EXISTS t;\n",
    "CREATE TABLE t (i INT, s VARCHAR(10));\n",
    "\n",
    "COMMIT; -- In Postgres DDL Commands are not auto committed, if autocommit is disabled\n",
    "\n",
    "INSERT INTO t VALUES (1, 'Hello');\n",
    "INSERT INTO t VALUES (2, 'World');\n",
    "SELECT * FROM t;\n",
    "COMMIT; -- Transaction ends\n",
    "\n",
    "UPDATE t SET s = upper(s);\n",
    "INSERT INTO t VALUES (3, NULL);\n",
    "SELECT * FROM t; -- 3 records\n",
    "ROLLBACK; -- Transaction ends\n",
    "\n",
    "SELECT * FROM t; -- 2 records\n",
    "\n",
    "DROP TABLE t; -- Make sure to commit, otherwise transaction will not be complete in postgres\n",
    "COMMIT; -- Transaction ends\n",
    "```"
   ]
  },
  {
   "cell_type": "markdown",
   "metadata": {},
   "source": []
  }
 ],
 "metadata": {
  "kernelspec": {
   "display_name": "Python 3.9.12 ('de-venv': venv)",
   "language": "python",
   "name": "python3"
  },
  "language_info": {
   "codemirror_mode": {
    "name": "ipython",
    "version": 3
   },
   "file_extension": ".py",
   "mimetype": "text/x-python",
   "name": "python",
   "nbconvert_exporter": "python",
   "pygments_lexer": "ipython3",
   "version": "3.9.12"
  },
  "vscode": {
   "interpreter": {
    "hash": "21cbb09f01f019d5f6b1cf249e417ce80e445d4c227fbeb2062a530f0435c64e"
   }
  }
 },
 "nbformat": 4,
 "nbformat_minor": 4
}
