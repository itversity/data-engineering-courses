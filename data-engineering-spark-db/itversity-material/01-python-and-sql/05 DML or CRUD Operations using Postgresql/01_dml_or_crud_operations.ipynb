{
 "cells": [
  {
   "cell_type": "markdown",
   "metadata": {},
   "source": [
    "# DML or CRUD Operations\n",
    "\n",
    "Let us understand how to perform CRUD operations using Postgresql.\n",
    "\n",
    "* Tables as Relations\n",
    "* Database Operations - Overview\n",
    "* CRUD Operations\n",
    "* Creating Table\n",
    "* Inserting Data\n",
    "* Updating Data\n",
    "* Deleting Data\n",
    "* Overview of Transactions\n",
    "* Exercises - DML or CRUD Operations\n",
    "\n",
    "Here are the key objectives of this section.\n",
    "* What are the different types of Database Operations?\n",
    "* Data Manipulation or CRUD Operations using DML Commands\n",
    "* How to insert new records into table?\n",
    "* How to update existing data in a table?\n",
    "* How the data is typically deleted from a table?\n",
    "* You will also get a brief overview about Database Operations\n",
    "* Self evaluate whether you gain enough skills related to performing CRUD or DML operations or not using exercieses"
   ]
  },
  {
   "cell_type": "markdown",
   "metadata": {},
   "source": []
  }
 ],
 "metadata": {
  "kernelspec": {
   "display_name": "Python 3.9.13 ('de-venv': venv)",
   "language": "python",
   "name": "python3"
  },
  "language_info": {
   "codemirror_mode": {
    "name": "ipython",
    "version": 3
   },
   "file_extension": ".py",
   "mimetype": "text/x-python",
   "name": "python",
   "nbconvert_exporter": "python",
   "pygments_lexer": "ipython3",
   "version": "3.9.13"
  },
  "vscode": {
   "interpreter": {
    "hash": "4231b894330257367e4e8349eaffa8ac324890b88d445dc5e124c3080bced56e"
   }
  }
 },
 "nbformat": 4,
 "nbformat_minor": 4
}
