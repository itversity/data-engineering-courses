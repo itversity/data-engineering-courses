{
 "cells": [
  {
   "cell_type": "markdown",
   "metadata": {},
   "source": [
    "## Overview of CRUD Operations\n",
    "\n",
    "Let us get an overview of CRUD Operations. They are nothing but DML and queries to read the data while performing database operations.\n",
    "* CRUD as a term is widely used as part of (Web or Mobile) Application Development.\n",
    "* C - CREATE (INSERT)\n",
    "* R - READ (READ)\n",
    "* U - UPDATE (UPDATE)\n",
    "* D - DELETE (DELETE)\n",
    "\n",
    "As part of the application development process we perform CRUD Operations using REST APIs."
   ]
  },
  {
   "cell_type": "markdown",
   "metadata": {},
   "source": []
  }
 ],
 "metadata": {
  "kernelspec": {
   "display_name": "Python 3 (ipykernel)",
   "language": "python",
   "name": "python3"
  },
  "language_info": {
   "codemirror_mode": {
    "name": "ipython",
    "version": 3
   },
   "file_extension": ".py",
   "mimetype": "text/x-python",
   "name": "python",
   "nbconvert_exporter": "python",
   "pygments_lexer": "ipython3",
   "version": "3.7.12"
  }
 },
 "nbformat": 4,
 "nbformat_minor": 4
}
