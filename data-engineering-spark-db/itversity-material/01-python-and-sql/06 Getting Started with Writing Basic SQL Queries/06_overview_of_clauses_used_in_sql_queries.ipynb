{
 "cells": [
  {
   "cell_type": "markdown",
   "metadata": {},
   "source": [
    "## Overview of Clauses used in SQL Queries\n",
    "\n",
    "Let us get an overview of different clauses we use as part of writing queries to process data.\n",
    "* Common Clauses used to write Basic SQL Queries - `SELECT`, `FROM`, `JOIN`, `ON`, `WHERE`, `GROUP BY`, `HAVING`, `ORDER BY`, etc.\n",
    "* Let us review Order of Clauses while writing SQL Queries by looking at below sample query.\n",
    "\n",
    "```sql\n",
    "SELECT o.order_date,\n",
    "    oi.order_item_product_id,\n",
    "    p.product_name,\n",
    "    round(sum(oi.order_item_subtotal::numeric), 2) AS product_revenue\n",
    "FROM orders o \n",
    "    JOIN order_items oi\n",
    "        ON o.order_id = oi.order_item_order_id\n",
    "    JOIN products p\n",
    "        ON p.product_id = oi.order_item_product_id\n",
    "WHERE o.order_status IN ('COMPLETE', 'CLOSED')\n",
    "GROUP BY o.order_date,\n",
    "    oi.order_item_product_id,\n",
    "    p.product_name\n",
    "    HAVING round(sum(oi.order_item_subtotal::numeric), 2) > 5000\n",
    "ORDER BY o.order_date,\n",
    "    product_revenue DESC\n",
    "LIMIT 10\n",
    "```\n",
    "\n",
    "* Order of execution is different from order of writing SQL Queries.\n",
    "* We will go through the details of order of execution of SQL Queries several times in this course."
   ]
  },
  {
   "cell_type": "markdown",
   "metadata": {},
   "source": []
  }
 ],
 "metadata": {
  "kernelspec": {
   "display_name": "Python 3.9.12 ('de-venv': venv)",
   "language": "python",
   "name": "python3"
  },
  "language_info": {
   "name": "python",
   "version": "3.9.12"
  },
  "orig_nbformat": 4,
  "vscode": {
   "interpreter": {
    "hash": "21cbb09f01f019d5f6b1cf249e417ce80e445d4c227fbeb2062a530f0435c64e"
   }
  }
 },
 "nbformat": 4,
 "nbformat_minor": 2
}
