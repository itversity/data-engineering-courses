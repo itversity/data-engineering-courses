{
 "cells": [
  {
   "cell_type": "markdown",
   "metadata": {},
   "source": [
    "## Standard Data Transformations using SQL Queries\n",
    "\n",
    "Here are some of the transformations we typically perform on regular basis.\n",
    "* Projection of data\n",
    "* Filtering data\n",
    "* Performing Aggregations\n",
    "* Joins\n",
    "* Sorting\n",
    "* Advanced Aggregations, Windowing Functions, and Analytical Functions (will be covered as part of advanced queries)\n",
    "\n",
    "Here are the examples for Standard Data Transformations.\n",
    "* Selection or Projection – `SELECT` clause\n",
    "  * It is also called as row level transformations.\n",
    "  * Apply standardization rules (convert names and addresses to upper case).\n",
    "  * Mask partial data (SSN and Date of births).\n",
    "* Filtering data – `WHERE` clause\n",
    "  * Get orders based on date or product or category.\n",
    "* Joins – `JOIN` (supports outer join as well)\n",
    "  * Join multiple data sets.\n",
    "* Aggregations – `GROUP BY` and aggregations with support of functions such as `sum`, `avg`, `min`, `max` etc\n",
    "  * Get revenue for a given order\n",
    "  * Get revenue for each order\n",
    "  * Get daily revenue\n",
    "* Sorting – `ORDER BY`\n",
    "  * Sort the final output by date.\n",
    "  * Sort the final output by date, then by revenue in descending order.\n",
    "  * Sort the final output by state or province, then by revenue in descending order.\n",
    "* Advanced Aggregations, Windowing Functions, and Analytical Functions\n",
    "  * Get top 5 stores by revenue for each state.\n",
    "  * Get top 5 products by revenue in each category."
   ]
  },
  {
   "cell_type": "code",
   "execution_count": null,
   "metadata": {},
   "outputs": [],
   "source": [
    "%load_ext sql"
   ]
  },
  {
   "cell_type": "code",
   "execution_count": null,
   "metadata": {},
   "outputs": [],
   "source": [
    "%%sql\n",
    "\n",
    "SELECT * FROM users\n",
    "ORDER BY user_id"
   ]
  },
  {
   "cell_type": "code",
   "execution_count": null,
   "metadata": {},
   "outputs": [],
   "source": []
  }
 ],
 "metadata": {
  "kernelspec": {
   "display_name": "Python 3.9.12 ('de-venv': venv)",
   "language": "python",
   "name": "python3"
  },
  "language_info": {
   "codemirror_mode": {
    "name": "ipython",
    "version": 3
   },
   "file_extension": ".py",
   "mimetype": "text/x-python",
   "name": "python",
   "nbconvert_exporter": "python",
   "pygments_lexer": "ipython3",
   "version": "3.9.12"
  },
  "vscode": {
   "interpreter": {
    "hash": "21cbb09f01f019d5f6b1cf249e417ce80e445d4c227fbeb2062a530f0435c64e"
   }
  }
 },
 "nbformat": 4,
 "nbformat_minor": 4
}
