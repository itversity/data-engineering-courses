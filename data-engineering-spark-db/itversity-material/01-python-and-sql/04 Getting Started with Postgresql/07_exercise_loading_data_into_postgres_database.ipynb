{
 "cells": [
  {
   "cell_type": "markdown",
   "metadata": {},
   "source": [
    "## Exercise - Loading Data into Postgres Database\n",
    "\n",
    "As part of this exercise, you need to take care of loading data using `COPY` Command.\n",
    "* If you are using your own environment, make sure to create database for storing HR Data.\n",
    "  * Host: localhost\n",
    "  * Port: 5342\n",
    "  * Database Name: itversity_hr_db\n",
    "  * User Name: itversity_hr_user\n",
    "  * You can create user with password of your choice.\n",
    "  \n",
    "```sql\n",
    "CREATE DATABASE itversity_hr_db;\n",
    "CREATE USER itversity_hr_user WITH PASSWORD 'itversity';\n",
    "GRANT ALL ON DATABASE itversity_hr_db TO itversity_hr_user;\n",
    "```\n",
    "\n",
    "* Create table using this script.\n",
    "\n",
    "```sql\n",
    "CREATE TABLE employees\n",
    "   ( employee_id INTEGER\n",
    "   , first_name VARCHAR(20)\n",
    "   , last_name VARCHAR(25)\n",
    "   , email VARCHAR(25)\n",
    "   , phone_number VARCHAR(20)\n",
    "   , hire_date DATE\n",
    "   , job_id VARCHAR(10)\n",
    "   , salary NUMERIC(8,2)\n",
    "   , commission_pct NUMERIC(2,2)\n",
    "   , manager_id INTEGER\n",
    "   , department_id INTEGER\n",
    "   ) ;\n",
    "CREATE UNIQUE INDEX emp_emp_id_pk\n",
    "         ON employees (employee_id) ;\n",
    "ALTER TABLE employees ADD\n",
    "   PRIMARY KEY (employee_id);\n",
    "```\n",
    "\n",
    "* Understand data.\n",
    "  * Check for delimiters (record as well as field).\n",
    "  * Check whether header exists or not.\n",
    "  * Ensure number of fields for the table and data being loaded are same or not.\n",
    "* Load data into the table using `COPY` Command. The file is under `data/hr_db/employees`\n",
    "* Validate by running these queries. You can also use SQL Workbench to run the queries to validate whether data is loaded successfully or not.\n",
    "\n",
    "```sql\n",
    "SELECT * FROM employees LIMIT 10;\n",
    "SELECT count(1) FROM employees;\n",
    "```"
   ]
  },
  {
   "cell_type": "code",
   "execution_count": null,
   "metadata": {},
   "outputs": [],
   "source": []
  }
 ],
 "metadata": {
  "kernelspec": {
   "display_name": "Python 3 (ipykernel)",
   "language": "python",
   "name": "python3"
  },
  "language_info": {
   "codemirror_mode": {
    "name": "ipython",
    "version": 3
   },
   "file_extension": ".py",
   "mimetype": "text/x-python",
   "name": "python",
   "nbconvert_exporter": "python",
   "pygments_lexer": "ipython3",
   "version": "3.8.12"
  }
 },
 "nbformat": 4,
 "nbformat_minor": 4
}
