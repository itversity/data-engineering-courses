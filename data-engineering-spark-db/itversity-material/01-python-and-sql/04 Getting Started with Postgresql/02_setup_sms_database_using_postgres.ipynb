{
 "cells": [
  {
   "cell_type": "markdown",
   "id": "d67e9fd0-c4ea-4b10-8a26-fb04f1b836e5",
   "metadata": {},
   "source": [
    "## Setup SMS Database using Postgres\n",
    "\n",
    "Let us go ahead and setup SMS database using Postgres so that we can learn SQL as part of this course using it.\n",
    "\n",
    "Here are the highlevel steps invovled.\n",
    "* Connect to database running locally using **pgAdmin**\n",
    "* Create Database and User using **pgAdmin**\n",
    "* Make sure the permissions are granted. Use the commands provided below using Query Tool to perform these tasks.\n",
    "* Come out of it. Later you need to use these details to connect to the database to learn SQL using jupyter based environment.\n",
    "\n",
    "Here are the details of Database Name and User I have used for reference.\n",
    "* Database Name: **itversity_sms_db**\n",
    "* User Name: **itversity_sms_user**\n",
    "* Password: **itversity**\n",
    "\n",
    "**Run SQL Commands**\n",
    "\n",
    "Here are the equivalent commands, in case you want to use scripts.\n",
    "```sql\n",
    "CREATE DATABASE itversity_sms_db;\n",
    "CREATE USER itversity_sms_user WITH ENCRYPTED PASSWORD 'itversity';\n",
    "GRANT ALL ON DATABASE itversity_sms_db TO itversity_sms_user;\n",
    "```"
   ]
  },
  {
   "cell_type": "code",
   "execution_count": null,
   "id": "5ba0630c-7339-4356-a808-585861769ec6",
   "metadata": {},
   "outputs": [],
   "source": []
  }
 ],
 "metadata": {
  "kernelspec": {
   "display_name": "Python 3.10.6 64-bit",
   "language": "python",
   "name": "python3"
  },
  "language_info": {
   "codemirror_mode": {
    "name": "ipython",
    "version": 3
   },
   "file_extension": ".py",
   "mimetype": "text/x-python",
   "name": "python",
   "nbconvert_exporter": "python",
   "pygments_lexer": "ipython3",
   "version": "3.10.6"
  },
  "vscode": {
   "interpreter": {
    "hash": "b460384b52104c1e5b9cf54bee46a255d22b2bef338f75ac4ad5d48196028d3c"
   }
  }
 },
 "nbformat": 4,
 "nbformat_minor": 5
}
