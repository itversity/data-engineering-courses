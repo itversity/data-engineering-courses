{
 "cells": [
  {
   "cell_type": "markdown",
   "metadata": {},
   "source": [
    "## Difference Between Unique and Primary Key Constraints\n",
    "\n",
    "Let us compare and contrast `PRIMARY KEY` and `UNIQUE` constraints.\n",
    "* There can be only one `PRIMARY KEY` in a table where as there can be any number of `UNIQUE` constraints.\n",
    "* `UNIQUE` constraint columns can have null values unless `NOT NULL` is also enforced. In case of `PRIMARY KEY`, both uniqueness as well as not null are strictly enforced. In other words a primary key column cannot be null where as unique column can be null.\n",
    "* `FOREIGN KEY` from a child table can be defined against `PRIMARY KEY` column or `UNIQUE` column.\n",
    "* Typically `PRIMARY KEY` columns are surrogate keys which are supported by sequence.\n",
    "* `PRIMARY KEY` or `UNIQUE` can be composite. It means there can be more than one column to define `PRIMARY KEY` or `UNIQUE` constraint.\n",
    "* Both `PRIMARY KEY` as well as `UNIQUE` constraints are supported by indexes to avoid full table scan to enforce uniqueness."
   ]
  },
  {
   "cell_type": "markdown",
   "metadata": {},
   "source": []
  }
 ],
 "metadata": {
  "kernelspec": {
   "display_name": "Python 3.9.13 ('de-venv': venv)",
   "language": "python",
   "name": "python3"
  },
  "language_info": {
   "name": "python",
   "version": "3.9.13"
  },
  "orig_nbformat": 4,
  "vscode": {
   "interpreter": {
    "hash": "21cbb09f01f019d5f6b1cf249e417ce80e445d4c227fbeb2062a530f0435c64e"
   }
  }
 },
 "nbformat": 4,
 "nbformat_minor": 2
}
