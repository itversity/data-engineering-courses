{
 "cells": [
  {
   "cell_type": "code",
   "execution_count": null,
   "metadata": {},
   "outputs": [],
   "source": [
    "import os\n",
    "databricks_token = os.environ.get('DATABRICKS_TOKEN')"
   ]
  },
  {
   "cell_type": "code",
   "execution_count": null,
   "metadata": {},
   "outputs": [],
   "source": [
    "db_url = 'https://adb-10690713082002.2.azuredatabricks.net'"
   ]
  },
  {
   "cell_type": "code",
   "execution_count": null,
   "metadata": {},
   "outputs": [],
   "source": [
    "folder = input('Enter Databricks Workspace Folder to be copied: ')"
   ]
  },
  {
   "cell_type": "code",
   "execution_count": null,
   "metadata": {},
   "outputs": [],
   "source": [
    "workspace = '/Users/dgadiraju@itversity.com'"
   ]
  },
  {
   "cell_type": "code",
   "execution_count": null,
   "metadata": {},
   "outputs": [],
   "source": [
    "notebook_base_dir = 'itversity-material/03-spark-sql-and-pyspark'"
   ]
  },
  {
   "cell_type": "code",
   "execution_count": null,
   "metadata": {},
   "outputs": [],
   "source": [
    "!databricks workspace ls /Users/dgadiraju@itversity.com/itversity-material/03-spark-sql-and-pyspark"
   ]
  },
  {
   "cell_type": "code",
   "execution_count": null,
   "metadata": {},
   "outputs": [],
   "source": [
    "databricks_base_dir = f'{workspace}/{notebook_base_dir}'"
   ]
  },
  {
   "cell_type": "code",
   "execution_count": null,
   "metadata": {},
   "outputs": [],
   "source": [
    "folder = input('Enter folder in Databricks to be synched: ')"
   ]
  },
  {
   "cell_type": "code",
   "execution_count": null,
   "metadata": {},
   "outputs": [],
   "source": [
    "f'{databricks_base_dir}/{folder}'"
   ]
  },
  {
   "cell_type": "code",
   "execution_count": null,
   "metadata": {},
   "outputs": [],
   "source": [
    "import requests\n",
    "import json\n",
    "notebooks = requests.get(\n",
    "    f'{db_url}/api/2.0/workspace/list', \n",
    "    headers={\n",
    "        'Authorization': f'Bearer {databricks_token}',\n",
    "        'Accept': 'application/json'\n",
    "    },\n",
    "    data=json.dumps({\n",
    "        'path': f'{databricks_base_dir}/{folder}'\n",
    "    })\n",
    "). \\\n",
    "    json()['objects']"
   ]
  },
  {
   "cell_type": "code",
   "execution_count": null,
   "metadata": {},
   "outputs": [],
   "source": [
    "for notebook in notebooks:\n",
    "    print(f'Exporting {notebook[\"path\"]}')\n",
    "    notebook_content = requests.get(\n",
    "        f'{db_url}/api/2.0/workspace/export', \n",
    "        headers={\n",
    "            'Authorization': f'Bearer {databricks_token}',\n",
    "            'Accept': 'application/json'\n",
    "        },\n",
    "        data=json.dumps({\n",
    "            'path': notebook['path'],\n",
    "            'format': 'JUPYTER',\n",
    "            'direct_download': 'true',\n",
    "            'language': notebook['language']\n",
    "        }) \n",
    "    ).content\n",
    "    tgt_name = f'{notebook_base_dir}/{folder}/{notebook[\"path\"].split(\"/\")[-1]}.ipynb'\n",
    "    tgt_file = open(tgt_name, 'wb')\n",
    "    tgt_file.write(notebook_content)\n",
    "    tgt_file.close()\n",
    "    "
   ]
  },
  {
   "cell_type": "code",
   "execution_count": null,
   "metadata": {},
   "outputs": [],
   "source": []
  }
 ],
 "metadata": {
  "kernelspec": {
   "display_name": "Python 3.9.13 ('de-venv': venv)",
   "language": "python",
   "name": "python3"
  },
  "language_info": {
   "codemirror_mode": {
    "name": "ipython",
    "version": 3
   },
   "file_extension": ".py",
   "mimetype": "text/x-python",
   "name": "python",
   "nbconvert_exporter": "python",
   "pygments_lexer": "ipython3",
   "version": "3.9.13"
  },
  "orig_nbformat": 4,
  "vscode": {
   "interpreter": {
    "hash": "135b9826aaf44f3ebd45df920e60a6462940c47ed00b6a0ce531fe1da0299dca"
   }
  }
 },
 "nbformat": 4,
 "nbformat_minor": 2
}
