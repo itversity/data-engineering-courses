{
 "cells": [
  {
   "cell_type": "code",
   "execution_count": 2,
   "metadata": {},
   "outputs": [
    {
     "name": "stdout",
     "output_type": "stream",
     "text": [
      "databricks-results\n"
     ]
    }
   ],
   "source": [
    "!databricks fs ls"
   ]
  },
  {
   "cell_type": "code",
   "execution_count": 3,
   "metadata": {},
   "outputs": [
    {
     "name": "stdout",
     "output_type": "stream",
     "text": [
      "Users\n",
      "Shared\n",
      "Repos\n"
     ]
    }
   ],
   "source": [
    "!databricks workspace ls"
   ]
  },
  {
   "cell_type": "code",
   "execution_count": 4,
   "metadata": {},
   "outputs": [
    {
     "name": "stdout",
     "output_type": "stream",
     "text": [
      "training_itversity.com#ext#@trainingitversity.onmicrosoft.com\n",
      "dgadiraju@itversity.com\n"
     ]
    }
   ],
   "source": [
    "!databricks workspace ls /Users"
   ]
  },
  {
   "cell_type": "code",
   "execution_count": 5,
   "metadata": {},
   "outputs": [
    {
     "name": "stdout",
     "output_type": "stream",
     "text": [
      "0904-004946-lk8u7iv5  Spark SQL and Pyspark  TERMINATED\n"
     ]
    }
   ],
   "source": [
    "!databricks clusters list"
   ]
  },
  {
   "cell_type": "code",
   "execution_count": 6,
   "metadata": {},
   "outputs": [
    {
     "name": "stdout",
     "output_type": "stream",
     "text": [
      "Usage: databricks clusters [OPTIONS] COMMAND [ARGS]...\n",
      "\n",
      "  Utility to interact with Databricks clusters.\n",
      "\n",
      "Options:\n",
      "  -v, --version   0.17.3\n",
      "  --debug         Debug Mode. Shows full stack trace on error.\n",
      "  --profile TEXT  CLI connection profile to use. The default profile is\n",
      "                  \"DEFAULT\".\n",
      "  -h, --help      Show this message and exit.\n",
      "\n",
      "Commands:\n",
      "  create            Creates a Databricks cluster.\n",
      "  delete            Removes a Databricks cluster given its ID.\n",
      "  edit              Edits a Databricks cluster.\n",
      "  events            Gets events for a Spark cluster.\n",
      "  get               Retrieves metadata about a cluster.\n",
      "  list              Lists active and recently terminated clusters.\n",
      "  list-node-types   Lists possible node types for a cluster.\n",
      "  list-zones        Lists zones where clusters can be created.\n",
      "  permanent-delete  Permanently deletes a Spark cluster.\n",
      "  resize            Resizes a Databricks cluster given its ID.\n",
      "  restart           Restarts a Databricks cluster given its ID.\n",
      "  spark-versions    Lists possible Databricks Runtime versions for a...\n",
      "  start             Starts a terminated Databricks cluster given its ID.\n"
     ]
    }
   ],
   "source": [
    "!databricks clusters -h"
   ]
  },
  {
   "cell_type": "code",
   "execution_count": 7,
   "metadata": {},
   "outputs": [
    {
     "name": "stdout",
     "output_type": "stream",
     "text": [
      "Usage: databricks clusters start [OPTIONS]\n",
      "\n",
      "  Starts a terminated Databricks cluster given its ID.\n",
      "\n",
      "  If the cluster is not currently in a TERMINATED state, nothing will happen.\n",
      "\n",
      "Options:\n",
      "  --cluster-id CLUSTER_ID  Can be found in the URL at https://*.cloud.databric\n",
      "                           ks.com/#/setting/clusters/$CLUSTER_ID/configuration\n",
      "                           .  [required]\n",
      "  --debug                  Debug Mode. Shows full stack trace on error.\n",
      "  --profile TEXT           CLI connection profile to use. The default profile\n",
      "                           is \"DEFAULT\".\n",
      "  -h, --help               Show this message and exit.\n"
     ]
    }
   ],
   "source": [
    "!databricks clusters start -h"
   ]
  },
  {
   "cell_type": "code",
   "execution_count": 8,
   "metadata": {},
   "outputs": [],
   "source": [
    "!databricks clusters start --cluster-id 0904-004946-lk8u7iv5"
   ]
  },
  {
   "cell_type": "code",
   "execution_count": 9,
   "metadata": {},
   "outputs": [
    {
     "name": "stdout",
     "output_type": "stream",
     "text": [
      "0904-004946-lk8u7iv5  Spark SQL and Pyspark  PENDING\n"
     ]
    }
   ],
   "source": [
    "!databricks clusters list"
   ]
  },
  {
   "cell_type": "code",
   "execution_count": null,
   "metadata": {},
   "outputs": [],
   "source": []
  }
 ],
 "metadata": {
  "kernelspec": {
   "display_name": "Python 3.9.13 ('de-venv': venv)",
   "language": "python",
   "name": "python3"
  },
  "language_info": {
   "codemirror_mode": {
    "name": "ipython",
    "version": 3
   },
   "file_extension": ".py",
   "mimetype": "text/x-python",
   "name": "python",
   "nbconvert_exporter": "python",
   "pygments_lexer": "ipython3",
   "version": "3.9.13"
  },
  "orig_nbformat": 4,
  "vscode": {
   "interpreter": {
    "hash": "4231b894330257367e4e8349eaffa8ac324890b88d445dc5e124c3080bced56e"
   }
  }
 },
 "nbformat": 4,
 "nbformat_minor": 2
}
