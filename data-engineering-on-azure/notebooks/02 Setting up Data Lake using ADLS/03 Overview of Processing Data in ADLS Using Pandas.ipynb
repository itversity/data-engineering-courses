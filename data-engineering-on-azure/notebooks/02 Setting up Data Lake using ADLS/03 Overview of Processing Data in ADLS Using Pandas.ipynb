{
 "cells": [
  {
   "cell_type": "markdown",
   "metadata": {},
   "source": [
    "Let us see how we can process data in ADLS using Pandas.\n",
    " * Pandas is the most popular library used to process as well as analyze the data.\n",
    "```\n",
    "pip install pandas\n",
    "pip install fsspec\n",
    "pip install adlfs\n",
    "pip install pyarrow\n",
    "```\n",
    "* We can seamlessly read data from ADLS Files as well as write data to ADLS Files using Pandas.\n",
    "* We need to have pandas, fsspec and adlfs installed using pip in the same virtual environment so that Pandas can be used to process data in ADLS Files.\n",
    "* At times we might have to install additional libraries to process data using particular format (for eg: pyarrow needs to be installed to work with Parquet)"
   ]
  },
  {
   "cell_type": "code",
   "execution_count": null,
   "metadata": {},
   "outputs": [],
   "source": [
    "from azure.storage.blob import BlobServiceClient\n",
    "from azure.identity import AzureCliCredential"
   ]
  },
  {
   "cell_type": "code",
   "execution_count": null,
   "metadata": {},
   "outputs": [],
   "source": [
    "credential = AzureCliCredential()"
   ]
  },
  {
   "cell_type": "code",
   "execution_count": null,
   "metadata": {},
   "outputs": [],
   "source": [
    "# Reading from local file system\n",
    "import pandas as pd\n",
    "columns = ['order_id', 'order_date', 'order_customer_id', 'order_status']\n",
    "df = pd.read_csv('data/retail_db/orders/part-00000', names=columns, sep=',')\n",
    "print(df)"
   ]
  },
  {
   "cell_type": "markdown",
   "metadata": {},
   "source": [
    "Generate storage account key using Azure Portal.\n",
    "\n",
    "* Login into Azure Portal and then go to storage accounts.\n",
    "* Choose relevant storage account.\n",
    "* Go to Access Keys and pick one of the keys. Copy and paste when it is prompted when below cell is run."
   ]
  },
  {
   "cell_type": "code",
   "execution_count": null,
   "metadata": {},
   "outputs": [],
   "source": [
    "account_key = '<key>'"
   ]
  },
  {
   "cell_type": "code",
   "execution_count": null,
   "metadata": {},
   "outputs": [],
   "source": [
    "storage_options = {\n",
    "    'account_key': account_key,\n",
    "    'account_name': 'airetail'\n",
    "}"
   ]
  },
  {
   "cell_type": "code",
   "execution_count": null,
   "metadata": {},
   "outputs": [],
   "source": [
    "df = pd.read_csv('abfs://retail/retail_db/orders/part-00000', storage_options=storage_options)"
   ]
  },
  {
   "cell_type": "code",
   "execution_count": null,
   "metadata": {},
   "outputs": [],
   "source": [
    "df_status = df.groupby('order_status')['order_status'].count()\n",
    "print(df_status)"
   ]
  }
 ],
 "metadata": {
  "language_info": {
   "name": "python"
  },
  "orig_nbformat": 4
 },
 "nbformat": 4,
 "nbformat_minor": 2
}
